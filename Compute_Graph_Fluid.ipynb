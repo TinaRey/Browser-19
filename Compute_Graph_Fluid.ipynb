{
 "cells": [
  {
   "cell_type": "code",
   "execution_count": 60,
   "metadata": {},
   "outputs": [],
   "source": [
    "import pandas as pd\n",
    "import pickle\n",
    "from scripts.interactive_search import *\n",
    "import numpy as np\n",
    "import networkx as nx\n",
    "from networkx.algorithms import community"
   ]
  },
  {
   "cell_type": "code",
   "execution_count": 61,
   "metadata": {},
   "outputs": [],
   "source": [
    "# Change this function to select a different paper set\n",
    "def read_metadata(path):\n",
    "    df = pd.read_csv(path)\n",
    "    df = df.astype({'abstract': 'str'})\n",
    "    df = df[df['abstract'] != 'Unknown']\n",
    "    df = df[df['abstract'] != 'nan']\n",
    "    df = df[df['language'] == 'en']\n",
    "    df = df[df['publish_time'].str[:4] == '2020']\n",
    "    #df = df.drop_duplicates(['title','abstract'])\n",
    "    #df = df.drop_duplicates(['title'])\n",
    "    #df = df.drop_duplicates(['abstract'])\n",
    "    df = df.reset_index(drop=True)\n",
    "    df = df[:1000]\n",
    "    return df"
   ]
  },
  {
   "cell_type": "code",
   "execution_count": 62,
   "metadata": {},
   "outputs": [],
   "source": [
    "load_from_pickle = True\n",
    "#EMBEDDINGS_PATH = 'data/embeddings_top5k.pkl'\n",
    "#EMBEDDINGS_PATH = 'data/embeddings_2020.pkl'\n",
    "EMBEDDINGS_PATH = 'data/embeddings_2020_top1k.pkl'\n",
    "#METADATA_PATH = 'data/metadata_new_new.csv'\n",
    "METADATA_PATH = 'data/metadata_en_20_topics.csv'\n",
    "\n",
    "df_meta = read_metadata(METADATA_PATH)\n",
    "abstracts = [a for a in df_meta['abstract']]\n",
    "titles = df_meta['title'].reset_index(drop=True)\n",
    "\n",
    "if load_from_pickle:\n",
    "    with open(EMBEDDINGS_PATH, 'rb') as file:\n",
    "        embeddings = pickle.load(file)\n",
    "\n",
    "else:\n",
    "    model = SentenceTransformer(MODEL_PATH)\n",
    "    embeddings = model.encode(abstracts, show_progress_bar=True)\n",
    "    with open(EMBEDDINGS_PATH, 'wb') as file:\n",
    "        pickle.dump(embeddings, file)"
   ]
  },
  {
   "cell_type": "code",
   "execution_count": 63,
   "metadata": {},
   "outputs": [
    {
     "data": {
      "text/html": [
       "<div>\n",
       "<style scoped>\n",
       "    .dataframe tbody tr th:only-of-type {\n",
       "        vertical-align: middle;\n",
       "    }\n",
       "\n",
       "    .dataframe tbody tr th {\n",
       "        vertical-align: top;\n",
       "    }\n",
       "\n",
       "    .dataframe thead th {\n",
       "        text-align: right;\n",
       "    }\n",
       "</style>\n",
       "<table border=\"1\" class=\"dataframe\">\n",
       "  <thead>\n",
       "    <tr style=\"text-align: right;\">\n",
       "      <th></th>\n",
       "      <th>cord_uid</th>\n",
       "      <th>sha</th>\n",
       "      <th>source_x</th>\n",
       "      <th>title</th>\n",
       "      <th>doi</th>\n",
       "      <th>pmcid</th>\n",
       "      <th>pubmed_id</th>\n",
       "      <th>license</th>\n",
       "      <th>abstract</th>\n",
       "      <th>publish_time</th>\n",
       "      <th>...</th>\n",
       "      <th>url</th>\n",
       "      <th>language</th>\n",
       "      <th>topic_0</th>\n",
       "      <th>topic_1</th>\n",
       "      <th>topic_2</th>\n",
       "      <th>topic_3</th>\n",
       "      <th>topic_4</th>\n",
       "      <th>topic_5</th>\n",
       "      <th>topic_6</th>\n",
       "      <th>topic_7</th>\n",
       "    </tr>\n",
       "  </thead>\n",
       "  <tbody>\n",
       "    <tr>\n",
       "      <th>64</th>\n",
       "      <td>uqls3p01</td>\n",
       "      <td>NaN</td>\n",
       "      <td>biorxiv</td>\n",
       "      <td>Genomic variance of the 2019-nCoV coronavirus</td>\n",
       "      <td>10.1101/2020.02.02.931162</td>\n",
       "      <td>NaN</td>\n",
       "      <td>NaN</td>\n",
       "      <td>biorxiv</td>\n",
       "      <td>AbstractThere is rising global concern for the...</td>\n",
       "      <td>2020-02-04</td>\n",
       "      <td>...</td>\n",
       "      <td>https://doi.org/10.1101/2020.02.02.931162</td>\n",
       "      <td>en</td>\n",
       "      <td>NaN</td>\n",
       "      <td>NaN</td>\n",
       "      <td>NaN</td>\n",
       "      <td>0.642545</td>\n",
       "      <td>0.340377</td>\n",
       "      <td>NaN</td>\n",
       "      <td>NaN</td>\n",
       "      <td>NaN</td>\n",
       "    </tr>\n",
       "    <tr>\n",
       "      <th>888</th>\n",
       "      <td>zel9a3u6</td>\n",
       "      <td>NaN</td>\n",
       "      <td>WHO</td>\n",
       "      <td>Genomic variance of the 2019-nCoV coronavirus</td>\n",
       "      <td>10.1002/jmv.25700</td>\n",
       "      <td>NaN</td>\n",
       "      <td>NaN</td>\n",
       "      <td>unk</td>\n",
       "      <td>Abstract There is rising global concern for th...</td>\n",
       "      <td>2020-02-19</td>\n",
       "      <td>...</td>\n",
       "      <td>https://doi.org/10.1002/jmv.25700</td>\n",
       "      <td>en</td>\n",
       "      <td>NaN</td>\n",
       "      <td>NaN</td>\n",
       "      <td>NaN</td>\n",
       "      <td>0.705986</td>\n",
       "      <td>0.278361</td>\n",
       "      <td>NaN</td>\n",
       "      <td>NaN</td>\n",
       "      <td>NaN</td>\n",
       "    </tr>\n",
       "  </tbody>\n",
       "</table>\n",
       "<p>2 rows × 26 columns</p>\n",
       "</div>"
      ],
      "text/plain": [
       "     cord_uid  sha source_x                                          title  \\\n",
       "64   uqls3p01  NaN  biorxiv  Genomic variance of the 2019-nCoV coronavirus   \n",
       "888  zel9a3u6  NaN      WHO  Genomic variance of the 2019-nCoV coronavirus   \n",
       "\n",
       "                           doi pmcid  pubmed_id  license  \\\n",
       "64   10.1101/2020.02.02.931162   NaN        NaN  biorxiv   \n",
       "888          10.1002/jmv.25700   NaN        NaN      unk   \n",
       "\n",
       "                                              abstract publish_time  ...  \\\n",
       "64   AbstractThere is rising global concern for the...   2020-02-04  ...   \n",
       "888  Abstract There is rising global concern for th...   2020-02-19  ...   \n",
       "\n",
       "                                           url language  topic_0 topic_1  \\\n",
       "64   https://doi.org/10.1101/2020.02.02.931162       en      NaN     NaN   \n",
       "888          https://doi.org/10.1002/jmv.25700       en      NaN     NaN   \n",
       "\n",
       "     topic_2   topic_3   topic_4 topic_5  topic_6  topic_7  \n",
       "64       NaN  0.642545  0.340377     NaN      NaN      NaN  \n",
       "888      NaN  0.705986  0.278361     NaN      NaN      NaN  \n",
       "\n",
       "[2 rows x 26 columns]"
      ]
     },
     "execution_count": 63,
     "metadata": {},
     "output_type": "execute_result"
    }
   ],
   "source": [
    "df_meta[df_meta['title'] == \"Genomic variance of the 2019-nCoV coronavirus\"]"
   ]
  },
  {
   "cell_type": "code",
   "execution_count": 64,
   "metadata": {},
   "outputs": [
    {
     "data": {
      "text/plain": [
       "In Case You Haven't Heard…                                                                                                                                                                                 2\n",
       "TWIRLS, an automated topic-wise inference method based on massive literature, suggests a possible mechanism via ACE2 for the pathological changes in the human host after coronavirus infection            2\n",
       "Genome Detective Coronavirus Typing Tool for rapid identification and characterization of novel coronavirus genomes                                                                                        2\n",
       "Genomic variance of the 2019-nCoV coronavirus                                                                                                                                                              2\n",
       "Analysis of psychological state and clinical psychological intervention model of patients with COVID-19                                                                                                    1\n",
       "                                                                                                                                                                                                          ..\n",
       "Strong evolutionary convergence of receptor-binding protein spike between COVID-19 and SARS-related coronaviruses                                                                                          1\n",
       "Comparative Pathogenesis Of COVID-19, MERS And SARS In A Non-Human Primate Model                                                                                                                           1\n",
       "Case fatality rate of novel coronavirus disease 2019 in China                                                                                                                                              1\n",
       "Novel and potent inhibitors targeting DHODH, a rate-limiting enzyme in de novo pyrimidine biosynthesis, are broad-spectrum antiviral against RNA viruses including newly emerged coronavirus SARS-CoV-2    1\n",
       "Tracking and Predicting COVID-19 Epidemic in China Mainland                                                                                                                                                1\n",
       "Name: title, Length: 996, dtype: int64"
      ]
     },
     "execution_count": 64,
     "metadata": {},
     "output_type": "execute_result"
    }
   ],
   "source": [
    "df_meta['title'].value_counts()"
   ]
  },
  {
   "cell_type": "code",
   "execution_count": 65,
   "metadata": {},
   "outputs": [],
   "source": [
    "def compute_adjacency(embeddings, epsilon):\n",
    "    cosine_distances = scipy.spatial.distance.cdist(embeddings, embeddings, \"cosine\")\n",
    "    cosine_similarities = 1 - cosine_distances\n",
    "    cosine_similarities[cosine_similarities < epsilon] = 0\n",
    "    np.fill_diagonal(cosine_similarities, 0.0)\n",
    "    return cosine_similarities"
   ]
  },
  {
   "cell_type": "code",
   "execution_count": 66,
   "metadata": {},
   "outputs": [],
   "source": [
    "epsilon = 0.85\n",
    "adjacency = compute_adjacency(embeddings, epsilon)\n",
    "G = nx.from_numpy_array(adjacency)"
   ]
  },
  {
   "cell_type": "code",
   "execution_count": 67,
   "metadata": {},
   "outputs": [
    {
     "name": "stdout",
     "output_type": "stream",
     "text": [
      "1000\n"
     ]
    }
   ],
   "source": [
    "print(len(G))"
   ]
  },
  {
   "cell_type": "code",
   "execution_count": 68,
   "metadata": {},
   "outputs": [],
   "source": [
    "index_to_title = {}\n",
    "for i in list(G.nodes):\n",
    "    index_to_title.update({i: titles[i]})"
   ]
  },
  {
   "cell_type": "code",
   "execution_count": 69,
   "metadata": {},
   "outputs": [],
   "source": [
    "G = nx.relabel.relabel_nodes(G, index_to_title)"
   ]
  },
  {
   "cell_type": "code",
   "execution_count": 70,
   "metadata": {},
   "outputs": [
    {
     "name": "stdout",
     "output_type": "stream",
     "text": [
      "996\n"
     ]
    }
   ],
   "source": [
    "print(len(G))"
   ]
  },
  {
   "cell_type": "code",
   "execution_count": 71,
   "metadata": {},
   "outputs": [],
   "source": [
    "def unordered_connected_components(G):\n",
    "    for c in nx.connected_components(G):\n",
    "        yield G.subgraph(c)\n",
    "        \n",
    "def connected_components(G):\n",
    "    return sorted(list(unordered_connected_components(G)), key=len, reverse=True)"
   ]
  },
  {
   "cell_type": "code",
   "execution_count": 72,
   "metadata": {},
   "outputs": [],
   "source": [
    "subgraphs = connected_components(G)"
   ]
  },
  {
   "cell_type": "code",
   "execution_count": 73,
   "metadata": {},
   "outputs": [],
   "source": [
    "G = subgraphs[0]  # Keep only the main connected component"
   ]
  },
  {
   "cell_type": "code",
   "execution_count": 74,
   "metadata": {},
   "outputs": [],
   "source": [
    "def compute_clusters_fluid(G, n_clusters=10, dtype='title'):\n",
    "    clusters = []\n",
    "    iterator = community.asyn_fluidc(G, n_clusters, max_iter=1)\n",
    "    for cluster in iterator:\n",
    "        clusters.append(cluster)\n",
    "\n",
    "    return clusters"
   ]
  },
  {
   "cell_type": "code",
   "execution_count": 75,
   "metadata": {},
   "outputs": [],
   "source": [
    "clusters = compute_clusters_fluid(G, n_clusters=3, dtype='title')  # Works quite well with high epsilon (.85) and only keeping main connected component\n",
    "sum = 0\n",
    "for cluster in clusters:\n",
    "    sum += len(cluster)"
   ]
  },
  {
   "cell_type": "code",
   "execution_count": 76,
   "metadata": {},
   "outputs": [],
   "source": [
    "title_to_cluster = {}\n",
    "i = 0\n",
    "for cluster in clusters:\n",
    "    for title in cluster:\n",
    "        if type(title) != str:\n",
    "            print(\"Error: title is not a string => \" + repr(title))\n",
    "        title_to_cluster.update({title: i})\n",
    "    i += 1\n",
    "nx.set_node_attributes(G, title_to_cluster, \"cluster\")"
   ]
  },
  {
   "cell_type": "code",
   "execution_count": 77,
   "metadata": {},
   "outputs": [],
   "source": [
    "for subgraph in subgraphs[1:]:\n",
    "    G = nx.compose(G, subgraph)"
   ]
  },
  {
   "cell_type": "code",
   "execution_count": 78,
   "metadata": {},
   "outputs": [],
   "source": [
    "nx.write_gexf(G, \"data/graph.gexf\")"
   ]
  },
  {
   "cell_type": "code",
   "execution_count": 79,
   "metadata": {},
   "outputs": [
    {
     "name": "stdout",
     "output_type": "stream",
     "text": [
      "996\n"
     ]
    }
   ],
   "source": [
    "s = 0\n",
    "for subgraph in subgraphs:\n",
    "    s += len(subgraph)\n",
    "    \n",
    "print(s)"
   ]
  },
  {
   "cell_type": "markdown",
   "metadata": {},
   "source": [
    "The end."
   ]
  }
 ],
 "metadata": {
  "kernelspec": {
   "display_name": "Python 3",
   "language": "python",
   "name": "python3"
  },
  "language_info": {
   "codemirror_mode": {
    "name": "ipython",
    "version": 3
   },
   "file_extension": ".py",
   "mimetype": "text/x-python",
   "name": "python",
   "nbconvert_exporter": "python",
   "pygments_lexer": "ipython3",
   "version": "3.6.7"
  }
 },
 "nbformat": 4,
 "nbformat_minor": 2
}
