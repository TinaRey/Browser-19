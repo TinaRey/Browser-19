{
 "cells": [
  {
   "cell_type": "code",
   "execution_count": 1,
   "metadata": {},
   "outputs": [],
   "source": [
    "import json\n",
    "import pandas as pd\n",
    "import pickle\n",
    "import numpy as np"
   ]
  },
  {
   "cell_type": "code",
   "execution_count": 2,
   "metadata": {},
   "outputs": [],
   "source": [
    "# Change this function to select a different paper set\n",
    "def read_metadata(path):\n",
    "    df = pd.read_csv(path)\n",
    "    df = df.astype({'abstract': 'str'})\n",
    "    df = df[df['abstract'] != 'Unknown']\n",
    "    df = df[df['abstract'] != 'nan']\n",
    "    df = df[df['language'] == 'en']\n",
    "    #df = df[df['publish_time'].str[:4] == '2020']\n",
    "    df = df.reset_index(drop=True)\n",
    "    #df = df[:1000]\n",
    "    return df"
   ]
  },
  {
   "cell_type": "code",
   "execution_count": 3,
   "metadata": {},
   "outputs": [],
   "source": [
    "load_from_pickle = True\n",
    "#EMBEDDINGS_PATH = 'data/embeddings_top5k.pkl'\n",
    "#EMBEDDINGS_PATH = 'data/embeddings_2020.pkl'\n",
    "#EMBEDDINGS_PATH = 'data/embeddings_2020_top1k.pkl'\n",
    "#EMBEDDINGS_PATH = 'data/embeddings_sharp_top1k.pkl'\n",
    "EMBEDDINGS_PATH = 'data/embeddings_subtopics_sharp_all.pkl'\n",
    "#METADATA_PATH = 'data/metadata_new_new.csv'\n",
    "#METADATA_PATH = 'data/metadata_sharp.csv'\n",
    "METADATA_PATH = 'data/metadata_subtopics_sharp.csv'\n",
    "\n",
    "df_meta = read_metadata(METADATA_PATH)\n",
    "abstracts = [a for a in df_meta['abstract']]\n",
    "titles = df_meta['title'].reset_index(drop=True)\n",
    "cord_uids = df_meta['cord_uid']\n",
    "\n",
    "if load_from_pickle:\n",
    "    with open(EMBEDDINGS_PATH, 'rb') as file:\n",
    "        embeddings = pickle.load(file)\n",
    "\n",
    "else:\n",
    "    model = SentenceTransformer(MODEL_PATH)\n",
    "    embeddings = model.encode(abstracts, show_progress_bar=True)\n",
    "    with open(EMBEDDINGS_PATH, 'wb') as file:\n",
    "        pickle.dump(embeddings, file)\n",
    "        \n",
    "embeddings_array = np.array(embeddings)"
   ]
  },
  {
   "cell_type": "code",
   "execution_count": 4,
   "metadata": {},
   "outputs": [],
   "source": [
    "title_to_cord_uid = {}\n",
    "for paper in df_meta.iterrows():\n",
    "    series = paper[1]\n",
    "    title_to_cord_uid.update({series['title']: series['cord_uid']})"
   ]
  },
  {
   "cell_type": "code",
   "execution_count": 5,
   "metadata": {},
   "outputs": [],
   "source": [
    "n_topics = 8\n",
    "n_subtopics = 8\n",
    "\n",
    "for t in range(n_topics):\n",
    "    for s in range(n_subtopics):\n",
    "        filename = 'data/json_old/data_' + repr(t) + '_' + repr(s) + '.json'\n",
    "        data = json.load(open(filename, 'rb'))\n",
    "        nodes = data['nodes']\n",
    "        for node in nodes:\n",
    "            cord_uid = title_to_cord_uid[node['label']]\n",
    "            node.update({'cord_uid': cord_uid})\n",
    "            \n",
    "        data['nodes'] = nodes\n",
    "        # Save JSON\n",
    "        filename = 'data/json/data_' + repr(t) + '_' + repr(s) + '.json'\n",
    "        with open(filename, 'w') as outfile:\n",
    "            json.dump(data, outfile)"
   ]
  },
  {
   "cell_type": "markdown",
   "metadata": {},
   "source": [
    "The end."
   ]
  }
 ],
 "metadata": {
  "kernelspec": {
   "display_name": "Python 3",
   "language": "python",
   "name": "python3"
  },
  "language_info": {
   "codemirror_mode": {
    "name": "ipython",
    "version": 3
   },
   "file_extension": ".py",
   "mimetype": "text/x-python",
   "name": "python",
   "nbconvert_exporter": "python",
   "pygments_lexer": "ipython3",
   "version": "3.6.7"
  }
 },
 "nbformat": 4,
 "nbformat_minor": 2
}
