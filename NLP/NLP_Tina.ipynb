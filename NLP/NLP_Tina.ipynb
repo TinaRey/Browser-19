{
 "cells": [
  {
   "cell_type": "code",
   "execution_count": 64,
   "metadata": {},
   "outputs": [
    {
     "name": "stderr",
     "output_type": "stream",
     "text": [
      "[nltk_data] Downloading package wordnet to\n",
      "[nltk_data]     C:\\Users\\tr\\AppData\\Roaming\\nltk_data...\n",
      "[nltk_data]   Package wordnet is already up-to-date!\n"
     ]
    }
   ],
   "source": [
    "from os.path import join as pj\n",
    "import pandas as pd\n",
    "import numpy as np\n",
    "import nltk\n",
    "from nltk.corpus import stopwords\n",
    "from nltk.stem import PorterStemmer, WordNetLemmatizer\n",
    "from nltk.tokenize import sent_tokenize, word_tokenize\n",
    "import gensim\n",
    "import nltk\n",
    "nltk.download('wordnet')\n",
    "from sklearn.model_selection import train_test_split"
   ]
  },
  {
   "cell_type": "markdown",
   "metadata": {},
   "source": [
    "Data with english abstract and published in 2020"
   ]
  },
  {
   "cell_type": "code",
   "execution_count": 15,
   "metadata": {},
   "outputs": [],
   "source": [
    "path = 'data/'\n",
    "file_name = 'metadata_complet_with_abstract.csv'\n",
    "df = pd.read_csv(pj(path, file_name))\n",
    "df_en = df.copy()\n",
    "df_en = df[df['language']=='en']\n",
    "df_en_20 = df_en[df_en.publish_time.str[:4]=='2020']"
   ]
  },
  {
   "cell_type": "markdown",
   "metadata": {},
   "source": [
    "Deal with duplicates"
   ]
  },
  {
   "cell_type": "code",
   "execution_count": 12,
   "metadata": {},
   "outputs": [],
   "source": [
    "df_en_20 = df_en_20.drop_duplicates(['title','abstract'])"
   ]
  },
  {
   "cell_type": "code",
   "execution_count": 14,
   "metadata": {},
   "outputs": [
    {
     "data": {
      "text/plain": [
       "(2702, 18)"
      ]
     },
     "execution_count": 14,
     "metadata": {},
     "output_type": "execute_result"
    }
   ],
   "source": [
    "df_en_20.shape"
   ]
  },
  {
   "cell_type": "markdown",
   "metadata": {},
   "source": [
    "Train on abstract"
   ]
  },
  {
   "cell_type": "code",
   "execution_count": 65,
   "metadata": {},
   "outputs": [],
   "source": [
    "train, test = train_test_split(df_en_20.abstract, test_size=0.1, random_state=42)"
   ]
  },
  {
   "cell_type": "code",
   "execution_count": 66,
   "metadata": {},
   "outputs": [],
   "source": [
    "def lemmatize_stemming(text):\n",
    "    return PorterStemmer().stem(WordNetLemmatizer().lemmatize(text, pos='v'))\n",
    "# Tokenize and lemmatize\n",
    "def preprocess(text):\n",
    "    result=[]\n",
    "    for token in gensim.utils.simple_preprocess(text) :\n",
    "        if token not in gensim.parsing.preprocessing.STOPWORDS and len(token) > 3:\n",
    "            result.append(lemmatize_stemming(token))\n",
    "            \n",
    "    return result\n",
    "\n",
    "processed_docs=[]\n",
    "for t in train:\n",
    "    processed_docs.append(preprocess(t))\n",
    "    \n",
    "dictionary = gensim.corpora.Dictionary(processed_docs)\n",
    "dictionary.filter_extremes(no_below=15, no_above=0.1, keep_n= 100000)\n",
    "bow_corpus = [dictionary.doc2bow(doc) for doc in processed_docs]\n",
    "lda_model =  gensim.models.LdaMulticore(bow_corpus, \n",
    "                                   num_topics = 8, \n",
    "                                   id2word = dictionary,                                    \n",
    "                                   passes = 10,\n",
    "                                   workers = 2)"
   ]
  },
  {
   "cell_type": "markdown",
   "metadata": {},
   "source": [
    "Results"
   ]
  },
  {
   "cell_type": "code",
   "execution_count": 71,
   "metadata": {},
   "outputs": [
    {
     "name": "stdout",
     "output_type": "stream",
     "text": [
      "Topic 0: \n",
      "Words: 0.010*\"citi\" + 0.009*\"hubei\" + 0.009*\"travel\" + 0.007*\"quarantin\" + 0.007*\"reproduct\" + 0.006*\"contact\" + 0.006*\"predict\" + 0.006*\"dynam\" + 0.006*\"intervent\" + 0.006*\"social\"\n",
      "\n",
      "\n",
      "Topic 1: \n",
      "Words: 0.015*\"mortal\" + 0.012*\"swab\" + 0.011*\"outcom\" + 0.010*\"women\" + 0.009*\"pregnant\" + 0.008*\"evid\" + 0.008*\"children\" + 0.008*\"fatal\" + 0.008*\"type\" + 0.007*\"asymptomat\"\n",
      "\n",
      "\n",
      "Topic 2: \n",
      "Words: 0.029*\"lung\" + 0.019*\"imag\" + 0.019*\"lesion\" + 0.017*\"chest\" + 0.013*\"express\" + 0.011*\"grind\" + 0.011*\"involv\" + 0.011*\"glass\" + 0.010*\"opac\" + 0.010*\"anim\"\n",
      "\n",
      "\n",
      "Topic 3: \n",
      "Words: 0.014*\"blood\" + 0.013*\"count\" + 0.011*\"significantli\" + 0.010*\"lymphocyt\" + 0.010*\"injuri\" + 0.010*\"critic\" + 0.010*\"decreas\" + 0.010*\"acid\" + 0.009*\"admiss\" + 0.008*\"cytokin\"\n",
      "\n",
      "\n",
      "Topic 4: \n",
      "Words: 0.025*\"vaccin\" + 0.020*\"sequenc\" + 0.017*\"genom\" + 0.014*\"mer\" + 0.013*\"strain\" + 0.010*\"immun\" + 0.010*\"coronavirus\" + 0.009*\"host\" + 0.009*\"structur\" + 0.008*\"gene\"\n",
      "\n",
      "\n",
      "Topic 5: \n",
      "Words: 0.015*\"bind\" + 0.014*\"drug\" + 0.013*\"target\" + 0.012*\"antivir\" + 0.012*\"replic\" + 0.011*\"host\" + 0.009*\"receptor\" + 0.009*\"interact\" + 0.009*\"structur\" + 0.009*\"inhibit\"\n",
      "\n",
      "\n",
      "Topic 6: \n",
      "Words: 0.023*\"influenza\" + 0.016*\"assay\" + 0.013*\"sensit\" + 0.012*\"cancer\" + 0.012*\"diagnost\" + 0.009*\"screen\" + 0.007*\"rapid\" + 0.007*\"predict\" + 0.007*\"children\" + 0.007*\"surveil\"\n",
      "\n",
      "\n",
      "Topic 7: \n",
      "Words: 0.016*\"manag\" + 0.011*\"staff\" + 0.009*\"recommend\" + 0.008*\"worker\" + 0.007*\"anxieti\" + 0.007*\"nurs\" + 0.007*\"practic\" + 0.007*\"psycholog\" + 0.007*\"experi\" + 0.007*\"work\"\n",
      "\n",
      "\n"
     ]
    }
   ],
   "source": [
    "for idx, topic in lda_model.print_topics(-1):\n",
    "    print(\"Topic {}: \\nWords: {}\".format(idx, topic ))\n",
    "    print(\"\\n\")"
   ]
  },
  {
   "cell_type": "markdown",
   "metadata": {},
   "source": [
    "-Topic 0: Hubei, la quarantaine, contamination par le voyage (fermeture des frontières), prediction, éviter le contact social \n",
    "\n",
    "-Topic 1: Mortalité, Femmes enceintes dangerosité ? et enfants, asymptomatiques ?\n",
    "\n",
    "-Topic 2: Chest and Lung Scans, lesions on images, opac => traces sur les images (grind ??)\n",
    "\n",
    "-Topic 3: Nombres de cellules cytokin, lymphocyt dans le sang, blessure \n",
    "\n",
    "-Topic 4: vaccin, gene, genome etc.\n",
    "\n",
    "-Topic 5: Tests medicaments\n",
    "\n",
    "-Topic 6: Autres maladies, personnes à risque, diagnostic\n",
    "\n",
    "-Topic 7: Corps médical"
   ]
  },
  {
   "cell_type": "markdown",
   "metadata": {},
   "source": [
    "Test"
   ]
  },
  {
   "cell_type": "code",
   "execution_count": 75,
   "metadata": {},
   "outputs": [
    {
     "name": "stdout",
     "output_type": "stream",
     "text": [
      "Score: 0.9831529855728149\t Topic 0: 0.016*\"manag\" + 0.011*\"staff\" + 0.009*\"recommend\" + 0.008*\"worker\" + 0.007*\"anxieti\" + 0.007*\"nurs\" + 0.007*\"practic\" + 0.007*\"psycholog\" + 0.007*\"experi\" + 0.007*\"work\"\n"
     ]
    }
   ],
   "source": [
    "# Data preprocessing step for the unseen document\n",
    "bow_vector = dictionary.doc2bow(preprocess(test[37380]))\n",
    "\n",
    "for index, score in sorted(lda_model[bow_vector], key=lambda tup: -1*tup[1]):\n",
    "    print(\"Score: {}\\t Topic {}: {}\".format(score, index, lda_model.print_topic(-1)))"
   ]
  },
  {
   "cell_type": "code",
   "execution_count": 74,
   "metadata": {},
   "outputs": [
    {
     "data": {
      "text/plain": [
       "'Abstract Only a month after the outbreak of pneumonia caused by 2019-nCoV, more than forty-thousand people were infected. This put enormous pressure on the Chinese government, medical healthcare provider, and the general public, but also made the international community deeply nervous. On the 25th day after the outbreak, the Chinese government implemented strict traffic restrictions on the area where the 2019-nCoV had originated—Hubei province, whose capital city is Wuhan. Ten days later, the rate of increase of cases in Hubei showed a significant difference (p = 0.0001) compared with the total rate of increase in other provinces of China. These preliminary data suggest the effectiveness of a traffic restriction policy for this pandemic thus far. At the same time, solid financial support and improved research ability, along with network communication technology, also greatly facilitated the application of epidemic prevention measures. These measures were motivated by the need to provide effective treatment of patients, and involved consultation with three major groups in policy formulation—public health experts, the government, and the general public. It was also aided by media and information technology, as well as international cooperation. This experience will provide China and other countries with valuable lessons for quickly coordinating and coping with future public health emergencies.'"
      ]
     },
     "execution_count": 74,
     "metadata": {},
     "output_type": "execute_result"
    }
   ],
   "source": [
    "test[37380]"
   ]
  },
  {
   "cell_type": "code",
   "execution_count": 73,
   "metadata": {
    "collapsed": true,
    "jupyter": {
     "outputs_hidden": true
    }
   },
   "outputs": [
    {
     "data": {
      "text/plain": [
       "37380    Abstract Only a month after the outbreak of pn...\n",
       "36175    While the coronavirus death rate may be lower ...\n",
       "570      An outbreak of novel betacoronavirus, SARS-CoV...\n",
       "380      Objective: To investigate the correlation betw...\n",
       "1788     As of 28 February 2020, Italy had 888 cases of...\n",
       "1469     In the recent issues of IRGEE, we have been as...\n",
       "26151    Abstract The National Bioforensic Analysis Cen...\n",
       "520      AbstractA new coronavirus SARS-CoV-2, recently...\n",
       "1991     Objective To understand the possible transmiss...\n",
       "402      AbstractThe 2013-2016 West Africa EBOV epidemi...\n",
       "37167    A novel bat-origin coronavirus emerged in Wuha...\n",
       "164      Cases from the ongoing outbreak of atypical pn...\n",
       "1597     As the world is witnessing the epidemic of COV...\n",
       "34317    Abstract Importation and transmission of measl...\n",
       "452      SUMMARYIn the analysis of genomic sequence dat...\n",
       "1924     Objective The purpose of this review of COVID-...\n",
       "734      Background.This research aims to analyze the c...\n",
       "534      BACKGROUND The outbreak of a novel coronavirus...\n",
       "1234     The novel coronavirus (2019-nCoV, or COVID-19)...\n",
       "13480    The Zika virus (ZIKV) is a mosquito-borne flav...\n",
       "14483    Using viral metagenomics, the complete genome ...\n",
       "34119    Abstract Ecological perturbations caused by bi...\n",
       "1317     Abstract When an outbreak of pneumonia of unkn...\n",
       "33061    Rationale and Objectives To retrospectively an...\n",
       "26267    Abstract Lung disease is common in the tropics...\n",
       "878      Background Since the outbreak of the COVID-19 ...\n",
       "26268    Abstract Tropical settings present unique chal...\n",
       "1251     BACKGROUND: Human infections with zoonotic cor...\n",
       "848      Introduction Severe Acute Respiratory Syndrome...\n",
       "1422     Use techniques honed during the SARS, H1N1 and...\n",
       "                               ...                        \n",
       "13571    Porcine deltacoronavirus (PDCoV), first identi...\n",
       "1376     Currently there is no effective antiviral ther...\n",
       "1372     In December 2019, an outbreak of novel Coronav...\n",
       "35353    Summary WHO interim guidelines recommend offer...\n",
       "779      COVID-19 is the most rapidly expanding coronav...\n",
       "1338     Abstract: The recently emerged 2019 Novel Coro...\n",
       "257      The novel coronavirus (COVID-19), first detect...\n",
       "262      An ongoing outbreak of atypical pneumonia caus...\n",
       "34059    Abstract Background While respiratory viral in...\n",
       "1648     To determine possible modes of virus transmiss...\n",
       "37488    Trump requests emergency funding for coronavir...\n",
       "295      Background The 2019 novel Coronavirus (COVID-1...\n",
       "37475    Background: The 2019 coronavirus disease (COVI...\n",
       "13615    During canonical translation, the ribosome mov...\n",
       "1731     Objective: To investigate the clinical and epi...\n",
       "1295     Abstract To investigate the time origin, genet...\n",
       "36526    Abstract Porcine deltacoronavirus (PDCoV) is t...\n",
       "236      ABSTRACTEffective countermeasures against the ...\n",
       "619      ABSTRACTPleiotropy, the concept that a single ...\n",
       "36096    SARS-CoV-2 has caused tens of thousands of inf...\n",
       "1462     The novel coronavirus outbreak (COVID-19) in m...\n",
       "686      In March 2020, Coronavirus Disease 2019 origin...\n",
       "638      AbstractThe COVID-19 disease has plagued over ...\n",
       "34437    Abstract Purpose To date, there remain conside...\n",
       "341      ABSTRACTThe respiratory syndrome caused by a n...\n",
       "31585    Abstract Ethnopharmacological relevance Isatid...\n",
       "26130    Abstract This chapter provides an overview of ...\n",
       "28332    Abstract Since its identification in December ...\n",
       "13692    Base J, β-D-glucosyl-hydroxymethyluracil, is a...\n",
       "338      A symptom-based mass screening and testing int...\n",
       "Name: abstract, Length: 271, dtype: object"
      ]
     },
     "execution_count": 73,
     "metadata": {},
     "output_type": "execute_result"
    }
   ],
   "source": [
    "test"
   ]
  },
  {
   "cell_type": "code",
   "execution_count": 76,
   "metadata": {},
   "outputs": [
    {
     "data": {
      "text/plain": [
       "'An outbreak of novel betacoronavirus, SARS-CoV-2 (formerly named 2019-nCoV), began in Wuhan, China in December 2019 and the COVID-19 disease associated with infection has since spread rapidly to multiple countries. Here we report the development of SARS-CoV-2 DETECTR, a rapid (~30 min), low-cost, and accurate CRISPR-Cas12 based lateral flow assay for detection of SARS-CoV-2. We validated this method using contrived reference samples and clinical samples from infected US patients and demonstrated comparable performance to the US CDC SARS-CoV-2 real-time RT-PCR assay.'"
      ]
     },
     "execution_count": 76,
     "metadata": {},
     "output_type": "execute_result"
    }
   ],
   "source": [
    "test[570]"
   ]
  },
  {
   "cell_type": "code",
   "execution_count": 77,
   "metadata": {},
   "outputs": [
    {
     "name": "stdout",
     "output_type": "stream",
     "text": [
      "Score: 0.5852038860321045\t Topic 6: 0.016*\"manag\" + 0.011*\"staff\" + 0.009*\"recommend\" + 0.008*\"worker\" + 0.007*\"anxieti\" + 0.007*\"nurs\" + 0.007*\"practic\" + 0.007*\"psycholog\" + 0.007*\"experi\" + 0.007*\"work\"\n",
      "Score: 0.19930173456668854\t Topic 4: 0.016*\"manag\" + 0.011*\"staff\" + 0.009*\"recommend\" + 0.008*\"worker\" + 0.007*\"anxieti\" + 0.007*\"nurs\" + 0.007*\"practic\" + 0.007*\"psycholog\" + 0.007*\"experi\" + 0.007*\"work\"\n",
      "Score: 0.1786642223596573\t Topic 0: 0.016*\"manag\" + 0.011*\"staff\" + 0.009*\"recommend\" + 0.008*\"worker\" + 0.007*\"anxieti\" + 0.007*\"nurs\" + 0.007*\"practic\" + 0.007*\"psycholog\" + 0.007*\"experi\" + 0.007*\"work\"\n"
     ]
    }
   ],
   "source": [
    "# Data preprocessing step for the unseen document\n",
    "bow_vector = dictionary.doc2bow(preprocess(test[570]))\n",
    "\n",
    "for index, score in sorted(lda_model[bow_vector], key=lambda tup: -1*tup[1]):\n",
    "    print(\"Score: {}\\t Topic {}: {}\".format(score, index, lda_model.print_topic(-1)))"
   ]
  },
  {
   "cell_type": "code",
   "execution_count": 78,
   "metadata": {},
   "outputs": [
    {
     "data": {
      "text/plain": [
       "'Objective: To investigate the correlation between clinical characteristics and cardiac injury of COVID-2019 pneumonia. Methods: In this retrospective, single-center study, 41 consecutive corona virus disease 2019 (COVID-2019) patients (including 2 deaths) of COVID-2019 in Beijing Youan Hospital, China Jan 21 to Feb 03, 2020, were involved in this study. The high risk factors of cardiac injury in different COVID-2019 patients were analyzed. Computed tomographic (CT) imaging of epicardial adipose tissue (EAT) has been used to demonstrate the cardiac inflammation of COVID-2019. Results：Of the 41 COVID-2019 patients, 2 (4.88%), 32 (78.05%), 4 (9.75%) and 3 (7.32%) patients were clinically diagnosed as light, mild, severe and critical cases, according to the 6th guidance issued by the National Health Commission of China. 10 (24.4%) patients had underlying complications, such as hypertension, CAD, type 2 diabetes mellites and tumor. The peak value of TnI in critical patients is 40-fold more than normal value. 2 patients in the critical group had the onset of atrial fibrillation, and the peak heart rates reached up to 160 bpm. CT scan showed low EAT density in severe and critical patients. Conclusion: Our results indicated that cardiac injury of COVID-2019 was rare in light and mild patients, while common in severe and critical patients. Therefore, the monitoring of the heart functions of COVID-2019 patients and applying potential interventions for those with abnormal cardiac injury related characteristics, is vital to prevent the fatality.'"
      ]
     },
     "execution_count": 78,
     "metadata": {},
     "output_type": "execute_result"
    }
   ],
   "source": [
    "test[380]"
   ]
  },
  {
   "cell_type": "code",
   "execution_count": 79,
   "metadata": {},
   "outputs": [
    {
     "name": "stdout",
     "output_type": "stream",
     "text": [
      "Score: 0.8044670820236206\t Topic 3: 0.016*\"manag\" + 0.011*\"staff\" + 0.009*\"recommend\" + 0.008*\"worker\" + 0.007*\"anxieti\" + 0.007*\"nurs\" + 0.007*\"practic\" + 0.007*\"psycholog\" + 0.007*\"experi\" + 0.007*\"work\"\n",
      "Score: 0.1229139044880867\t Topic 0: 0.016*\"manag\" + 0.011*\"staff\" + 0.009*\"recommend\" + 0.008*\"worker\" + 0.007*\"anxieti\" + 0.007*\"nurs\" + 0.007*\"practic\" + 0.007*\"psycholog\" + 0.007*\"experi\" + 0.007*\"work\"\n",
      "Score: 0.06313582509756088\t Topic 2: 0.016*\"manag\" + 0.011*\"staff\" + 0.009*\"recommend\" + 0.008*\"worker\" + 0.007*\"anxieti\" + 0.007*\"nurs\" + 0.007*\"practic\" + 0.007*\"psycholog\" + 0.007*\"experi\" + 0.007*\"work\"\n"
     ]
    }
   ],
   "source": [
    "# Data preprocessing step for the unseen document\n",
    "bow_vector = dictionary.doc2bow(preprocess(test[380]))\n",
    "\n",
    "for index, score in sorted(lda_model[bow_vector], key=lambda tup: -1*tup[1]):\n",
    "    print(\"Score: {}\\t Topic {}: {}\".format(score, index, lda_model.print_topic(-1)))"
   ]
  },
  {
   "cell_type": "code",
   "execution_count": null,
   "metadata": {},
   "outputs": [],
   "source": []
  }
 ],
 "metadata": {
  "kernelspec": {
   "display_name": "Python 3",
   "language": "python",
   "name": "python3"
  },
  "language_info": {
   "codemirror_mode": {
    "name": "ipython",
    "version": 3
   },
   "file_extension": ".py",
   "mimetype": "text/x-python",
   "name": "python",
   "nbconvert_exporter": "python",
   "pygments_lexer": "ipython3",
   "version": "3.7.3"
  }
 },
 "nbformat": 4,
 "nbformat_minor": 4
}
