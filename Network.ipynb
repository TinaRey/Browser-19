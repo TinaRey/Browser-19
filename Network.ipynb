{
 "cells": [
  {
   "cell_type": "code",
   "execution_count": 1,
   "metadata": {},
   "outputs": [],
   "source": [
    "from scripts.interactive_search import *\n",
    "import networkx as nx\n",
    "import numpy as np\n",
    "from networkx.algorithms import community\n",
    "import nltk\n",
    "from nltk.corpus import stopwords\n",
    "import matplotlib.pyplot as plt\n",
    "from sklearn.cluster import KMeans\n",
    "from NLP.tokenizer import clean_and_tokenize"
   ]
  },
  {
   "cell_type": "code",
   "execution_count": 2,
   "metadata": {},
   "outputs": [],
   "source": [
    "# Change this function to select a different paper set\n",
    "def read_metadata(path):\n",
    "    df = pd.read_csv(path)\n",
    "    df = df.astype({'abstract': 'str'})\n",
    "    df = df[df['abstract'] != 'Unknown']\n",
    "    df = df[df['abstract'] != 'nan']\n",
    "    df = df[df['language'] == 'en']\n",
    "    df = df[df['publish_time'].str[:4] == '2020']\n",
    "    df = df.drop_duplicates(['title','abstract'])\n",
    "    df = df.reset_index(drop=True)\n",
    "    #df = df[:5000]\n",
    "    return df"
   ]
  },
  {
   "cell_type": "code",
   "execution_count": 3,
   "metadata": {},
   "outputs": [],
   "source": [
    "load_from_pickle = True\n",
    "#EMBEDDINGS_PATH = 'data/embeddings_top5k.pkl'\n",
    "EMBEDDINGS_PATH = 'data/embeddings_2020.pkl'\n",
    "#METADATA_PATH = 'data/metadata_new_new.csv'\n",
    "METADATA_PATH = 'data/metadata_en_20_topics.csv'\n",
    "\n",
    "df_meta = read_metadata(METADATA_PATH)\n",
    "abstracts = [a for a in df_meta['abstract']]\n",
    "titles = df_meta['title'].reset_index(drop=True)\n",
    "\n",
    "if load_from_pickle:\n",
    "    with open(EMBEDDINGS_PATH, 'rb') as file:\n",
    "        embeddings = pickle.load(file)\n",
    "\n",
    "else:\n",
    "    model = SentenceTransformer(MODEL_PATH)\n",
    "    embeddings = model.encode(abstracts, show_progress_bar=True)\n",
    "    with open(EMBEDDINGS_PATH, 'wb') as file:\n",
    "        pickle.dump(embeddings, file)"
   ]
  },
  {
   "cell_type": "code",
   "execution_count": 4,
   "metadata": {},
   "outputs": [],
   "source": [
    "# Replace NaN values in the topics by 0.0\n",
    "for i in range(0, 8):\n",
    "    topic_series = df_meta['topic_' + repr(i)]\n",
    "    topic_series[topic_series.isna()] = 0.0\n",
    "    df_meta['topic_' + repr(i)] = topic_series"
   ]
  },
  {
   "cell_type": "code",
   "execution_count": 5,
   "metadata": {},
   "outputs": [],
   "source": [
    "topic_strings = []\n",
    "for i in range(0, 8):\n",
    "    topic_strings.append('topic_' + repr(i))\n",
    "\n",
    "df_meta['topic'] = df_meta[topic_strings].idxmax(axis=1).str[-1:]"
   ]
  },
  {
   "cell_type": "code",
   "execution_count": 6,
   "metadata": {},
   "outputs": [
    {
     "data": {
      "text/plain": [
       "2    739\n",
       "6    366\n",
       "7    327\n",
       "5    298\n",
       "1    291\n",
       "0    286\n",
       "3    278\n",
       "4    117\n",
       "Name: topic, dtype: int64"
      ]
     },
     "execution_count": 6,
     "metadata": {},
     "output_type": "execute_result"
    }
   ],
   "source": [
    "topics = df_meta['topic']\n",
    "topics.value_counts()"
   ]
  },
  {
   "cell_type": "code",
   "execution_count": 7,
   "metadata": {},
   "outputs": [],
   "source": [
    "X = np.asarray(embeddings)"
   ]
  },
  {
   "cell_type": "code",
   "execution_count": 8,
   "metadata": {},
   "outputs": [
    {
     "data": {
      "text/plain": [
       "(2702, 768)"
      ]
     },
     "execution_count": 8,
     "metadata": {},
     "output_type": "execute_result"
    }
   ],
   "source": [
    "X.shape"
   ]
  },
  {
   "cell_type": "code",
   "execution_count": 9,
   "metadata": {},
   "outputs": [],
   "source": [
    "from sklearn.decomposition import PCA\n",
    "from sklearn.manifold import TSNE, Isomap\n",
    "from mpl_toolkits.mplot3d import Axes3D\n",
    "\n",
    "# This cell can take a few minutes to run\n",
    "run_this_cell = False\n",
    "n_clusters = 8\n",
    "\n",
    "if run_this_cell:\n",
    "    # In 2d\n",
    "    methods = [PCA(n_components=2, copy=True, whiten=True, tol=1e-5),\n",
    "                  Isomap(n_components=2, n_neighbors=5),\n",
    "                  TSNE(n_components=2)]\n",
    "\n",
    "    for embedding in methods:\n",
    "        X_embedded = embedding.fit_transform(X)\n",
    "        fig = plt.figure()\n",
    "        kmeans = KMeans(n_clusters=n_clusters).fit(X_embedded)\n",
    "        y_pred = kmeans.predict(X_embedded)\n",
    "        plt.scatter(X_embedded[:, 0], X_embedded[:, 1], c=y_pred)\n",
    "        plt.title('Embedding method: '+ type(embedding).__name__)\n",
    "        plt.show()\n",
    "\n",
    "    # In 3d\n",
    "    methods = [PCA(n_components=3, copy=True, whiten=True, tol=1e-5),\n",
    "                  Isomap(n_components=3, n_neighbors=5),\n",
    "                  TSNE(n_components=3)]\n",
    "\n",
    "    for embedding in methods:\n",
    "        X_embedded = embedding.fit_transform(X)\n",
    "        fig = plt.figure()\n",
    "        ax = Axes3D(fig)\n",
    "        kmeans = KMeans(n_clusters=n_clusters).fit(X_embedded)\n",
    "        y_pred = kmeans.predict(X_embedded)\n",
    "        ax.scatter(X_embedded[:, 0], X_embedded[:, 1], X_embedded[:, 2], c=y_pred)\n",
    "        ax.title.set_text('Embedding method: '+ type(embedding).__name__)\n",
    "        plt.show()"
   ]
  },
  {
   "cell_type": "code",
   "execution_count": 10,
   "metadata": {},
   "outputs": [],
   "source": [
    "def compute_clusters_spacial(X, method='pca', dim=2, n_clusters=8, dtype='title'):\n",
    "    clusters = []\n",
    "    for i in range(n_clusters):\n",
    "        if dtype == 'title':\n",
    "            clusters.append(set())\n",
    "        elif dtype == 'topic':\n",
    "            clusters.append([])\n",
    "        else:\n",
    "            print('Unknown dtype')\n",
    "        \n",
    "    if method == 'pca':\n",
    "        algo = PCA(n_components=dim, copy=True, whiten=True, tol=1e-5)\n",
    "    elif method == 'isomap':\n",
    "        algo = Isomap(n_components=dim, n_neighbors=5)\n",
    "    elif method == 'tsne':\n",
    "        algo = TSNE(n_components=dim)\n",
    "    else:\n",
    "        print(\"Unknown embedding method\")\n",
    "    \n",
    "    X_embedded = algo.fit_transform(X)\n",
    "    kmeans = KMeans(n_clusters=n_clusters).fit(X_embedded)\n",
    "    classes = kmeans.predict(X_embedded)\n",
    "    for i in range(len(classes)):\n",
    "        if dtype == 'title':\n",
    "            clusters[classes[i]].add(titles[i])\n",
    "        elif dtype == 'topic':\n",
    "            clusters[classes[i]].append(topics[i])\n",
    "        \n",
    "    return clusters"
   ]
  },
  {
   "cell_type": "code",
   "execution_count": 11,
   "metadata": {},
   "outputs": [],
   "source": [
    "def compute_adjacency(embeddings, epsilon):\n",
    "    cosine_distances = scipy.spatial.distance.cdist(embeddings, embeddings, \"cosine\")\n",
    "    cosine_similarities = 1 - cosine_distances\n",
    "    cosine_similarities[cosine_similarities < epsilon] = 0\n",
    "    np.fill_diagonal(cosine_similarities, 0.0)\n",
    "    return cosine_similarities"
   ]
  },
  {
   "cell_type": "code",
   "execution_count": 12,
   "metadata": {},
   "outputs": [],
   "source": [
    "def compute_laplacian(adjacency: np.ndarray, normalize: bool):\n",
    "    \"\"\" Return:\n",
    "        L (n x n ndarray): combinatorial or symmetric normalized Laplacian.\n",
    "    \"\"\"\n",
    "    # We apply the formulas from the lecture\n",
    "    D = np.diag(np.sum(adjacency, axis=0))\n",
    "    L = D - adjacency\n",
    "    if normalize: \n",
    "        D2 = np.diag(np.sum(adjacency, axis=0) ** (-1/2))\n",
    "        Ln = np.dot(np.dot(D2, L), D2)\n",
    "        return Ln\n",
    "    else:\n",
    "        return L"
   ]
  },
  {
   "cell_type": "code",
   "execution_count": 13,
   "metadata": {},
   "outputs": [],
   "source": [
    "epsilon = 0.85\n",
    "adjacency = compute_adjacency(embeddings, epsilon)"
   ]
  },
  {
   "cell_type": "code",
   "execution_count": 14,
   "metadata": {},
   "outputs": [
    {
     "name": "stdout",
     "output_type": "stream",
     "text": [
      "Non-zero weight percentage: 2.07%\n"
     ]
    }
   ],
   "source": [
    "print(\"Non-zero weight percentage: \" + '{0:.2f}'.format(adjacency[adjacency!=0].size * 100 / adjacency.size) + '%')"
   ]
  },
  {
   "cell_type": "code",
   "execution_count": 15,
   "metadata": {},
   "outputs": [
    {
     "name": "stdout",
     "output_type": "stream",
     "text": [
      "Number of connected components: 948\n"
     ]
    }
   ],
   "source": [
    "G = nx.from_numpy_array(adjacency)\n",
    "print(\"Number of connected components: \" + repr(nx.number_connected_components(G)))"
   ]
  },
  {
   "cell_type": "code",
   "execution_count": 16,
   "metadata": {},
   "outputs": [],
   "source": [
    "def connected_component_subgraphs(G):\n",
    "    for c in nx.connected_components(G):\n",
    "        yield G.subgraph(c)"
   ]
  },
  {
   "cell_type": "code",
   "execution_count": 17,
   "metadata": {},
   "outputs": [],
   "source": [
    "subgraphs = sorted(list(connected_component_subgraphs(G)), key=len, reverse=True) # Use this for version 2.4+ of networkx"
   ]
  },
  {
   "cell_type": "code",
   "execution_count": 18,
   "metadata": {},
   "outputs": [],
   "source": [
    "G = subgraphs[0]  # Keep only the main connected component"
   ]
  },
  {
   "cell_type": "code",
   "execution_count": 19,
   "metadata": {},
   "outputs": [],
   "source": [
    "adjacency = np.asarray(nx.to_numpy_matrix(G))"
   ]
  },
  {
   "cell_type": "code",
   "execution_count": 20,
   "metadata": {},
   "outputs": [],
   "source": [
    "laplacian_comb = compute_laplacian(adjacency, normalize=False)\n",
    "laplacian_norm = compute_laplacian(adjacency, normalize=True)"
   ]
  },
  {
   "cell_type": "code",
   "execution_count": 21,
   "metadata": {},
   "outputs": [],
   "source": [
    "def spectral_decomposition(laplacian: np.ndarray):\n",
    "    \"\"\" Return:\n",
    "        lamb (np.array): eigenvalues of the Laplacian\n",
    "        U (np.ndarray): corresponding eigenvectors.\n",
    "    \"\"\"\n",
    "    e_values, e_vectors = np.linalg.eigh(laplacian)\n",
    "\n",
    "    return e_values, e_vectors.T # We transpose the eigenvectors so that e_vectors[k] is the k-th eigenvector (instead of e_vectors[:, k])"
   ]
  },
  {
   "cell_type": "code",
   "execution_count": 22,
   "metadata": {},
   "outputs": [],
   "source": [
    "lamb_comb, U_comb = spectral_decomposition(laplacian_comb)\n",
    "lamb_norm, U_norm = spectral_decomposition(laplacian_norm)"
   ]
  },
  {
   "cell_type": "code",
   "execution_count": 23,
   "metadata": {},
   "outputs": [
    {
     "data": {
      "image/png": "[encoded data removed]",
      "text/plain": [
       "<Figure size 864x360 with 2 Axes>"
      ]
     },
     "metadata": {
      "needs_background": "light"
     },
     "output_type": "display_data"
    }
   ],
   "source": [
    "plt.figure(figsize=(12,5))\n",
    "plt.subplot(121)\n",
    "plt.plot(lamb_comb)\n",
    "plt.xlabel('Index')\n",
    "plt.ylabel('Eigenvalue')\n",
    "plt.title('Eigenvalues $L_{comb}$')\n",
    "plt.subplot(122)\n",
    "plt.plot(lamb_norm)\n",
    "plt.xlabel('Index')\n",
    "plt.ylabel('Eigenvalue')\n",
    "plt.title('Eigenvalues $L_{norm}$')\n",
    "plt.show()"
   ]
  },
  {
   "cell_type": "code",
   "execution_count": 24,
   "metadata": {},
   "outputs": [],
   "source": [
    "index_to_title = {}\n",
    "title_to_index = {}\n",
    "for i in list(G.nodes):\n",
    "    index_to_title.update({i: titles[i]})\n",
    "    title_to_index.update({titles[i]: i})"
   ]
  },
  {
   "cell_type": "code",
   "execution_count": 25,
   "metadata": {},
   "outputs": [],
   "source": [
    "G = nx.relabel.relabel_nodes(G, index_to_title)"
   ]
  },
  {
   "cell_type": "code",
   "execution_count": 26,
   "metadata": {},
   "outputs": [],
   "source": [
    "def compute_clusters_girvan(G, iterations, dtype='title'):\n",
    "    if dtype == 'title':\n",
    "        G = nx.relabel.relabel_nodes(G, index_to_title)\n",
    "    elif dtype == 'topic':\n",
    "        G = nx.relabel.relabel_nodes(G, title_to_index)\n",
    "        \n",
    "    generator = community.centrality.girvan_newman(G)\n",
    "    for i in range(0, iterations):\n",
    "        print(\"Computing clusters, iteration \" + repr(i+1) + '/' + repr(iterations), end='\\r')\n",
    "        clusters = next(generator)\n",
    "        \n",
    "    if dtype == 'title':\n",
    "        return clusters\n",
    "    elif dtype == 'topic':\n",
    "        clusters_topic = []\n",
    "        for cluster in range(len(clusters)):\n",
    "            clusters_topic.append([])\n",
    "            for i in clusters[cluster]:\n",
    "                clusters_topic[cluster].append(topics[i])\n",
    "        return clusters_topic"
   ]
  },
  {
   "cell_type": "code",
   "execution_count": 27,
   "metadata": {},
   "outputs": [],
   "source": [
    "def compute_clusters_fluid(G, dtype='title'):\n",
    "    if dtype == 'title':\n",
    "        G = nx.relabel.relabel_nodes(G, index_to_title)\n",
    "    elif dtype == 'topic':\n",
    "        G = nx.relabel.relabel_nodes(G, title_to_index)\n",
    "    \n",
    "    clusters = []\n",
    "    iterator = community.asyn_fluidc(G, 10, max_iter=1)\n",
    "    for cluster in iterator:\n",
    "        clusters.append(cluster)\n",
    "        \n",
    "    if dtype == 'title':\n",
    "        return clusters\n",
    "    elif dtype == 'topic':\n",
    "        clusters_topic = []\n",
    "        for cluster in range(len(clusters)):\n",
    "            clusters_topic.append([])\n",
    "            for i in clusters[cluster]:\n",
    "                clusters_topic[cluster].append(topics[i])\n",
    "        return clusters_topic"
   ]
  },
  {
   "cell_type": "code",
   "execution_count": 28,
   "metadata": {},
   "outputs": [],
   "source": [
    "def compute_clusters_lpa(G, dtype='title'):\n",
    "    if dtype == 'title':\n",
    "        G = nx.relabel.relabel_nodes(G, index_to_title)\n",
    "    elif dtype == 'topic':\n",
    "        G = nx.relabel.relabel_nodes(G, title_to_index)\n",
    "    \n",
    "    clusters = []\n",
    "    iterator = community.asyn_lpa_communities(G, 'weight')\n",
    "    for cluster in iterator:\n",
    "        clusters.append(cluster)\n",
    "        \n",
    "    if dtype == 'title':\n",
    "        return clusters\n",
    "    elif dtype == 'topic':\n",
    "        clusters_topic = []\n",
    "        for cluster in range(len(clusters)):\n",
    "            clusters_topic.append([])\n",
    "            for i in clusters[cluster]:\n",
    "                clusters_topic[cluster].append(topics[i])\n",
    "        return clusters_topic"
   ]
  },
  {
   "cell_type": "code",
   "execution_count": 29,
   "metadata": {},
   "outputs": [
    {
     "name": "stderr",
     "output_type": "stream",
     "text": [
      "[nltk_data] Downloading package stopwords to\n",
      "[nltk_data]     C:\\Users\\val\\AppData\\Roaming\\nltk_data...\n",
      "[nltk_data]   Package stopwords is already up-to-date!\n"
     ]
    }
   ],
   "source": [
    "nltk.download('stopwords')\n",
    "stop_words = set(stopwords.words('english'))"
   ]
  },
  {
   "cell_type": "code",
   "execution_count": 30,
   "metadata": {},
   "outputs": [],
   "source": [
    "stop_words = set(stopwords.words('english'))\n",
    "stop_words.add('coronavirus')\n",
    "stop_words.add('virus')\n",
    "stop_words.add('novel')\n",
    "stop_words.add('chapter')"
   ]
  },
  {
   "cell_type": "code",
   "execution_count": 31,
   "metadata": {},
   "outputs": [
    {
     "name": "stdout",
     "output_type": "stream",
     "text": [
      "102\n",
      "423\n",
      "167\n",
      "129\n",
      "99\n",
      "97\n",
      "166\n",
      "184\n",
      "208\n",
      "69\n"
     ]
    }
   ],
   "source": [
    "dtype = 'topic'\n",
    "\n",
    "#clusters = compute_clusters_lpa(G, dtype=dtype)  # Poor results\n",
    "clusters = compute_clusters_fluid(G, dtype=dtype)  # Works quite well with high epsilon (.85) and only keeping main connected component\n",
    "#clusters = compute_clusters_girvan(G, iterations=3, dtype=dtype)  # Takes forever to compute on big graphs\n",
    "#clusters = compute_clusters_spacial(X, method='pca', dim=3, n_clusters=8, dtype=dtype)\n",
    "for cluster in clusters:\n",
    "    print(len(cluster))"
   ]
  },
  {
   "cell_type": "code",
   "execution_count": 37,
   "metadata": {},
   "outputs": [],
   "source": [
    "min_community_size = 0\n",
    "top_k = 10\n",
    "\n",
    "if dtype == 'title':\n",
    "    fig, ax =  plt.subplots(len(clusters))\n",
    "    fig.set_size_inches(12, 30)\n",
    "    i = 0\n",
    "    for cluster in clusters:\n",
    "        if len(cluster) < min_community_size:\n",
    "            continue\n",
    "        word_count = {}\n",
    "        for title in cluster:\n",
    "            if type(title) != str:\n",
    "                print(\"Error: title is not a string => \" + repr(title))\n",
    "            tokens = clean_and_tokenize(title)\n",
    "            for token in tokens:\n",
    "                if token in stop_words:\n",
    "                    continue\n",
    "                if token in word_count.keys():\n",
    "                    word_count[token] += 1\n",
    "                else:\n",
    "                    word_count[token] = 1\n",
    "\n",
    "        x = sorted(word_count, key=word_count.get, reverse=True)[:top_k]\n",
    "        height = sorted(word_count.values(), reverse=True)[:top_k]\n",
    "        norm = [float(i)/sum(height) for i in height]\n",
    "        ax[i].bar(x, norm)\n",
    "        i += 1\n",
    "    plt.show()"
   ]
  },
  {
   "cell_type": "code",
   "execution_count": 42,
   "metadata": {},
   "outputs": [
    {
     "data": {
      "image/png": "[encoded data removed]",
      "text/plain": [
       "<Figure size 864x2160 with 10 Axes>"
      ]
     },
     "metadata": {
      "needs_background": "light"
     },
     "output_type": "display_data"
    }
   ],
   "source": [
    "min_community_size = 0\n",
    "top_k = 10\n",
    "X_topics = np.ndarray((len(clusters), 8))\n",
    "if dtype == 'topic':\n",
    "    fig, ax =  plt.subplots(len(clusters))\n",
    "    fig.set_size_inches(12, 30)\n",
    "    i = 0\n",
    "    for cluster in clusters:\n",
    "        if len(cluster) < min_community_size:\n",
    "            continue\n",
    "        topic_count = {'0': 0, '1': 0, '2': 0, '3': 0, '4': 0, '5': 0, '6': 0, '7': 0}\n",
    "        for topics_ in cluster:\n",
    "            for topic in topics_:\n",
    "                topic_count[topic] += 1\n",
    "\n",
    "        x = topic_count.keys()\n",
    "        height = topic_count.values()\n",
    "        norm = [float(i)/sum(height) for i in height]\n",
    "        X_topics[i] = np.asarray(norm)\n",
    "        ax[i].bar(x, norm)\n",
    "        i += 1\n",
    "    plt.show()"
   ]
  },
  {
   "cell_type": "code",
   "execution_count": 44,
   "metadata": {},
   "outputs": [],
   "source": [
    "u, s, v = np.linalg.svd(X_topics)"
   ]
  },
  {
   "cell_type": "code",
   "execution_count": 45,
   "metadata": {},
   "outputs": [
    {
     "data": {
      "text/plain": [
       "array([1.35714588, 0.58930932, 0.46060609, 0.17784897, 0.10648667,\n",
       "       0.05883396, 0.02733428, 0.01707865])"
      ]
     },
     "execution_count": 45,
     "metadata": {},
     "output_type": "execute_result"
    }
   ],
   "source": [
    "s"
   ]
  },
  {
   "cell_type": "code",
   "execution_count": 34,
   "metadata": {},
   "outputs": [],
   "source": [
    "nx.write_gexf(G, \"data/graph.gexf\")"
   ]
  }
 ],
 "metadata": {
  "kernelspec": {
   "display_name": "Python 3",
   "language": "python",
   "name": "python3"
  },
  "language_info": {
   "codemirror_mode": {
    "name": "ipython",
    "version": 3
   },
   "file_extension": ".py",
   "mimetype": "text/x-python",
   "name": "python",
   "nbconvert_exporter": "python",
   "pygments_lexer": "ipython3",
   "version": "3.6.7"
  }
 },
 "nbformat": 4,
 "nbformat_minor": 2
}
