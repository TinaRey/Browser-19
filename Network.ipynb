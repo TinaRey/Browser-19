{
 "cells": [
  {
   "cell_type": "code",
   "execution_count": 51,
   "metadata": {},
   "outputs": [],
   "source": [
    "from scripts.interactive_search import *\n",
    "import networkx as nx\n",
    "import numpy as np\n",
    "from networkx.algorithms.community.centrality import girvan_newman\n",
    "import nltk\n",
    "from nltk.corpus import stopwords"
   ]
  },
  {
   "cell_type": "code",
   "execution_count": 52,
   "metadata": {},
   "outputs": [],
   "source": [
    "def read_metadata(path):\n",
    "    df = pd.read_csv(path)\n",
    "    df = df.astype({'abstract': 'str'})\n",
    "    df = df[df['abstract'] != 'Unknown']\n",
    "    df = df[df['abstract'] != 'nan']\n",
    "    return df"
   ]
  },
  {
   "cell_type": "code",
   "execution_count": 53,
   "metadata": {},
   "outputs": [
    {
     "name": "stderr",
     "output_type": "stream",
     "text": [
      "[nltk_data] Downloading package stopwords to\n",
      "[nltk_data]     C:\\Users\\val\\AppData\\Roaming\\nltk_data...\n",
      "[nltk_data]   Package stopwords is already up-to-date!\n"
     ]
    }
   ],
   "source": [
    "nltk.download('stopwords')\n",
    "df_meta = read_metadata(METADATA_PATH)\n",
    "model = SentenceTransformer(MODEL_PATH)"
   ]
  },
  {
   "cell_type": "code",
   "execution_count": 54,
   "metadata": {},
   "outputs": [],
   "source": [
    "stop_words = set(stopwords.words('english'))\n",
    "abstracts = [a for a in df_meta['abstract']]\n",
    "titles = df_meta['title'].reset_index(drop=True)"
   ]
  },
  {
   "cell_type": "code",
   "execution_count": 55,
   "metadata": {},
   "outputs": [],
   "source": [
    "assert len(abstracts) == 37576 # Ensure that the corpus was computed with the good dataset"
   ]
  },
  {
   "cell_type": "code",
   "execution_count": 56,
   "metadata": {},
   "outputs": [],
   "source": [
    "abstracts = abstracts[:1000]"
   ]
  },
  {
   "cell_type": "code",
   "execution_count": 57,
   "metadata": {},
   "outputs": [
    {
     "name": "stderr",
     "output_type": "stream",
     "text": [
      "Batches: 100%|███████████████████████████████| 125/125 [00:22<00:00,  5.55it/s]\n"
     ]
    }
   ],
   "source": [
    "embeddings = model.encode(abstracts, show_progress_bar=True)"
   ]
  },
  {
   "cell_type": "code",
   "execution_count": 58,
   "metadata": {},
   "outputs": [],
   "source": [
    "def compute_adjacency(embeddings, epsilon):\n",
    "    cosine_distances = scipy.spatial.distance.cdist(embeddings, embeddings, \"cosine\")\n",
    "    cosine_similarities = 1 - cosine_distances\n",
    "    cosine_similarities[cosine_similarities < epsilon] = 0\n",
    "    return cosine_similarities"
   ]
  },
  {
   "cell_type": "code",
   "execution_count": 59,
   "metadata": {},
   "outputs": [],
   "source": [
    "epsilon = 0.85\n",
    "adjacency = compute_adjacency(embeddings, epsilon)"
   ]
  },
  {
   "cell_type": "code",
   "execution_count": 60,
   "metadata": {},
   "outputs": [
    {
     "name": "stdout",
     "output_type": "stream",
     "text": [
      "Non-zero weight percentage: 2.93%\n"
     ]
    }
   ],
   "source": [
    "print(\"Non-zero weight percentage: \" + '{0:.2f}'.format(adjacency[adjacency!=0].size * 100 / adjacency.size) + '%')"
   ]
  },
  {
   "cell_type": "code",
   "execution_count": 61,
   "metadata": {},
   "outputs": [
    {
     "name": "stdout",
     "output_type": "stream",
     "text": [
      "Number of connected components: 369\n"
     ]
    }
   ],
   "source": [
    "G = nx.from_numpy_array(adjacency)\n",
    "print(\"Number of connected components: \" + repr(nx.number_connected_components(G)))"
   ]
  },
  {
   "cell_type": "code",
   "execution_count": 62,
   "metadata": {},
   "outputs": [],
   "source": [
    "new_labels = {}\n",
    "for i in range(len(G)):\n",
    "    new_labels.update({i: titles[i]})"
   ]
  },
  {
   "cell_type": "code",
   "execution_count": 63,
   "metadata": {},
   "outputs": [],
   "source": [
    "G = nx.relabel.relabel_nodes(G, new_labels)"
   ]
  },
  {
   "cell_type": "code",
   "execution_count": 66,
   "metadata": {},
   "outputs": [],
   "source": [
    "def compute_clusters_girvan(G, iterations):\n",
    "    generator = girvan_newman(G)\n",
    "    for i in range(0, iterations):\n",
    "        clusters = next(generator)\n",
    "        print(\"Computing clusters, iteration \" + repr(i+1) + '/' + repr(iterations), end='\\r')\n",
    "    return clusters"
   ]
  },
  {
   "cell_type": "code",
   "execution_count": 67,
   "metadata": {},
   "outputs": [
    {
     "name": "stdout",
     "output_type": "stream",
     "text": [
      "Computing clusters, iteration 2/2\r"
     ]
    }
   ],
   "source": [
    "iterations = 2\n",
    "clusters = compute_clusters_girvan(G, iterations)"
   ]
  },
  {
   "cell_type": "code",
   "execution_count": 41,
   "metadata": {},
   "outputs": [
    {
     "name": "stdout",
     "output_type": "stream",
     "text": [
      "['covid-19', 'coronavirus', 'novel']\n",
      "[208, 199, 129]\n"
     ]
    }
   ],
   "source": [
    "min_community_size = 6\n",
    "top_k = 3\n",
    "\n",
    "for community in communities:\n",
    "    if len(community) < min_community_size:\n",
    "        continue\n",
    "    word_count = {}\n",
    "    for title in community:\n",
    "        title = title.lower()\n",
    "        for word in title.split(' '):\n",
    "            if word in stop_words:\n",
    "                continue\n",
    "            if word in word_count.keys():\n",
    "                word_count[word] += 1\n",
    "            else:\n",
    "                word_count[word] = 1\n",
    "    print(sorted(word_count, key=word_count.get, reverse=True)[:top_k])\n",
    "    print(sorted(word_count.values(), reverse=True)[:top_k])"
   ]
  },
  {
   "cell_type": "code",
   "execution_count": 42,
   "metadata": {},
   "outputs": [],
   "source": [
    "nx.write_gexf(G, \"data/graph.gexf\")"
   ]
  },
  {
   "cell_type": "code",
   "execution_count": null,
   "metadata": {},
   "outputs": [],
   "source": []
  }
 ],
 "metadata": {
  "kernelspec": {
   "display_name": "Python 3",
   "language": "python",
   "name": "python3"
  },
  "language_info": {
   "codemirror_mode": {
    "name": "ipython",
    "version": 3
   },
   "file_extension": ".py",
   "mimetype": "text/x-python",
   "name": "python",
   "nbconvert_exporter": "python",
   "pygments_lexer": "ipython3",
   "version": "3.6.7"
  }
 },
 "nbformat": 4,
 "nbformat_minor": 2
}
