{
 "cells": [
  {
   "cell_type": "code",
   "execution_count": 1,
   "metadata": {},
   "outputs": [],
   "source": [
    "import pandas as pd\n",
    "import os"
   ]
  },
  {
   "cell_type": "code",
   "execution_count": 2,
   "metadata": {},
   "outputs": [],
   "source": [
    "# Change this function to select a different paper set\n",
    "def read_metadata(path):\n",
    "    df = pd.read_csv(path)\n",
    "    df = df.astype({'abstract': 'str'})\n",
    "    df = df[df['abstract'] != 'Unknown']\n",
    "    df = df[df['abstract'] != 'nan']\n",
    "    #df = df[df['language'] == 'en']\n",
    "    #df = df[df['publish_time'].str[:4] == '2020']\n",
    "    df = df.drop_duplicates(['title','abstract'])\n",
    "    #df = df.drop_duplicates(['title'])\n",
    "    #df = df.drop_duplicates(['abstract'])\n",
    "    df = df.reset_index(drop=True)\n",
    "    return df"
   ]
  },
  {
   "cell_type": "code",
   "execution_count": 3,
   "metadata": {},
   "outputs": [],
   "source": [
    "#METADATA_PATH = 'data/metadata_new_new.csv'\n",
    "#METADATA_PATH = 'data/metadata_processed.csv'\n",
    "METADATA_PATH = 'data/metadata_en_topics_and_subtopics.csv'\n",
    "\n",
    "df_meta = read_metadata(METADATA_PATH)\n",
    "abstracts = [a for a in df_meta['abstract']]\n",
    "titles = df_meta['title'].reset_index(drop=True)"
   ]
  },
  {
   "cell_type": "code",
   "execution_count": 4,
   "metadata": {},
   "outputs": [],
   "source": [
    "title_values = df_meta['title'].value_counts()"
   ]
  },
  {
   "cell_type": "code",
   "execution_count": 5,
   "metadata": {},
   "outputs": [],
   "source": [
    "# Replace duplicate title with: title v0, title v1, title v2, ...\n",
    "for title, n in title_values.iteritems():\n",
    "    if n >= 2:\n",
    "        i = 0\n",
    "        for idx, series in df_meta[df_meta['title'] == title].iterrows():\n",
    "            series['title'] = series['title'] + ' #' + repr(i)\n",
    "            df_meta.iloc[idx] = series\n",
    "            i += 1"
   ]
  },
  {
   "cell_type": "code",
   "execution_count": 6,
   "metadata": {},
   "outputs": [],
   "source": [
    "#save the new dataframe\n",
    "new_metadata_path = 'data/metadata_subtopics_sharp.csv'\n",
    "if os.path.isfile(new_metadata_path):\n",
    "    sys.exit('ERROR, a new dataset is already saved')\n",
    "else:\n",
    "    df_meta.to_csv(new_metadata_path)"
   ]
  }
 ],
 "metadata": {
  "kernelspec": {
   "display_name": "Python 3",
   "language": "python",
   "name": "python3"
  },
  "language_info": {
   "codemirror_mode": {
    "name": "ipython",
    "version": 3
   },
   "file_extension": ".py",
   "mimetype": "text/x-python",
   "name": "python",
   "nbconvert_exporter": "python",
   "pygments_lexer": "ipython3",
   "version": "3.6.7"
  }
 },
 "nbformat": 4,
 "nbformat_minor": 2
}
