{
 "cells": [
  {
   "cell_type": "code",
   "execution_count": 2,
   "metadata": {},
   "outputs": [],
   "source": [
    "import pandas as pd"
   ]
  },
  {
   "cell_type": "code",
   "execution_count": 22,
   "metadata": {},
   "outputs": [],
   "source": [
    "# Change this function to select a different paper set\n",
    "def read_metadata(path):\n",
    "    df = pd.read_csv(path)\n",
    "    df = df.astype({'abstract': 'str'})\n",
    "    df = df[df['abstract'] != 'Unknown']\n",
    "    df = df[df['abstract'] != 'nan']\n",
    "    #df = df[df['language'] == 'en']\n",
    "    #df = df[df['publish_time'].str[:4] == '2020']\n",
    "    df = df.drop_duplicates(['title','abstract'])\n",
    "    #df = df.drop_duplicates(['title'])\n",
    "    #df = df.drop_duplicates(['abstract'])\n",
    "    df = df.reset_index(drop=True)\n",
    "    return df"
   ]
  },
  {
   "cell_type": "code",
   "execution_count": 23,
   "metadata": {},
   "outputs": [],
   "source": [
    "#METADATA_PATH = 'data/metadata_new_new.csv'\n",
    "METADATA_PATH = 'data/metadata_new_new.csv'\n",
    "\n",
    "df_meta = read_metadata(METADATA_PATH)\n",
    "abstracts = [a for a in df_meta['abstract']]\n",
    "titles = df_meta['title'].reset_index(drop=True)"
   ]
  },
  {
   "cell_type": "code",
   "execution_count": 24,
   "metadata": {},
   "outputs": [
    {
     "data": {
      "text/plain": [
       "El protocolo contiene definiciones de casos sospechosos, manejo de pacientes con sospecha de infección por Coronavirus, tratamiento específicos anti-Novel CoV e investigación clínica y las consideraciones especiales para pacientes embarazadas.                                                                                                                                                                                                                                                                                                                                                                                                                                                                                                                                                                                                                                                                                                                                                                                                                                                                                                                                                                                                                                                                                                                                                                                                                                                                                                                                                                                                                                                                                                                                                                                                                                                                                                                                                                                                                                                                                                            2\n",
       "Résumé Les infections respiratoires de l'enfant sont à 80 % d'origine virale. La culture cellulaire était la technique de référence pour le diagnostic de ces infections mais cette technique tend à être supplantée par les techniques de biologie moléculaire et notamment la PCR en temps réel en raison de son excellente sensibilité et sa bonne praticabilité. Cependant, en pratique courante et dans la plupart des laboratoires, le diagnostic des infections virales respiratoires reste réalisé à l'aide de techniques reposant sur la mise en évidence des antigènes viraux notamment en immunofluorescence. Des tests de diagnostic rapide ou « doctors–tests », praticables en dehors d'un laboratoire, sont actuellement disponibles sur le marché, leur sensibilité reste inférieure à celle des autres techniques mais la généralisation de l'usage de ces tests notamment en cabinet médical est probable dans les années à venir. De nouvelles techniques de diagnostic des infections respiratoires reposant sur l'utilisation de puce à ADN sont en cours de mise au point et semblent très prometteuses. Abstract More than 80% of the cases of respiratory infections in children are of viral origin. Viral culture has been the reference method for the diagnosis of viral respiratory infections for years, but there is now a tendency to replace viral culture by molecular biology techniques, notably real-time PCR-based assay, because of its excellent sensitivity and good feasibility. Currently in most laboratories, however, diagnosis of viral respiratory infections is still done using techniques based on detection of viral antigens, especially immunofluorescence assays. Rapid diagnostic tests for use outside of laboratories are now available on the open market, and even if their sensitivity remains lower than that of other techniques, it is likely that they will become widely used, especially in doctors' offices, in the near future. New methods for the diagnosis of viral infections based on DNA microarray technologies are currently under investigation and appear to very promising.    2\n",
       "Human cytomegalovirus (HCMV) is a virus which has the potential to alter cellular gene expression through multiple mechanisms. OBJECTIVE: With the application of DNA microarrays, we could monitor the effects of pathogens on host-cell gene expression programmes in great depth and on a broad scale. METHODS: Changes in mRNA expression levels of human endothelial-like ECV304 cells following infection with human cytomegalovirus AD169 strain was analyzed by a microarray system comprising 21073 60-mer oligonucleotide probes which represent 18716 human genes or transcripts. RESULTS: The results from cDNA microarray showed that there were 559 differential expressed genes consisted of 471 upregulated genes and 88 down-regulated genes. Real-time qPCR was performed to validate the expression of 6 selected genes (RPS24, MGC8721, SLC27A3, MST4, TRAF2 and LRRC28), and the results of which were consistent with those from the microarray. Among 237 biology processes, 39 biology processes were found to be related significantly to HCMV-infection. The signal transduction is the most significant biological process with the lowest p value (p=0.005) among all biological process which involved in response to HCMV infection. CONCLUSION: Several of these gene products might play key roles in virus-induced pathogenesis. These findings may help to elucidate the pathogenic mechanisms of HCMV caused diseases.                                                                                                                                                                                                                                                                                                                                                                                                                                                                                                                                                                                                                                                                                                      2\n",
       "In 2009, a novel H1N1 Influenza virus has emerged and on June 11 the World Health Organization declared it as pandemic. It may cause acute respiratory failure ranging from severe Acute Respiratory Distress Syndrome to exacerbations of airflow limitation. Non-invasive ventilation is now considered first-line intervention for different causes of acute respiratory failure and may be considered in the context of H1N1 pandemic. Although infection control issues have been arisen, non-invasive ventilation was effective and safe during the Severe Acute Respiratory Syndrome in Asia. It is reasonable to recommend non-invasive ventilation in H1N1-related exacerbations of chronic respiratory diseases, especially in negative-pressure wards. Treatment of early Acute Respiratory Distress Syndrome associated with H1N1 using non-invasive ventilation could be tried rapidly identifying those who fail without delaying endotracheal intubation. Considering the high demand for critical care beds during the pandemic, non-invasive ventilation may have a role in reducing the estimated load.                                                                                                                                                                                                                                                                                                                                                                                                                                                                                                                                                                                                                                                                                                                                                                                                                                                                                                                                                                                                                                      2\n",
       "From December 2019, the new coronavirus pneumonia (COVID-19) broke out in Wuhan, Hubei, and spread rapidly to the nationwide. On January 20, 2020, the National Health Committee classified COVID-19 pneumonia as one of B class infectious diseases and treated it as class A infectious disease. During the epidemic period, the routine diagnosis and treatment of tumor patients was affected with varying degrees. In this special period, we performed the superiority of the multi-disciplinary team of diagnosis and treatment, achieved accurate diagnosis and treatment of patients with hepatobiliary malignant tumors, provided support for these patients with limited medical resources, and helped them to survive during the epidemic period.On the basis of fully understanding the new coronavirus pneumonia, the treatment strategy should be changed timely during the epidemic, and more appropriate treatment methods should be adopted to minimize the adverse effect of the epidemic on tumor treatment.                                                                                                                                                                                                                                                                                                                                                                                                                                                                                                                                                                                                                                                                                                                                                                                                                                                                                                                                                                                                                                                                                                                               2\n",
       "                                                                                                                                                                                                                                                                                                                                                                                                                                                                                                                                                                                                                                                                                                                                                                                                                                                                                                                                                                                                                                                                                                                                                                                                                                                                                                                                                                                                                                                                                                                                                                                                                                                                                                                                                                                                                                                                                                                                                                                                                                                                                                                                                              ..\n",
       "The severe acute respiratory syndrome coronavirus (SARS-CoV), isolated from humans infected during the peak of epidemic, encodes two accessory proteins termed as 8a and 8b. Interestingly, the SARS-CoV isolated from animals contains an extra 29-nucleotide in this region such that these proteins are fused to become a single protein, 8ab. Here, we compared the cellular properties of the 8a, 8b and 8ab proteins by examining their cellular localizations and their abilities to interact with other SARS-CoV proteins. These results may suggest that the conformations of 8a and 8b are different from 8ab although nearly all the amino acids in 8a and 8b are found in 8ab. In addition, the expression of the structural protein, envelope (E), was down-regulated by 8b but not 8a or 8ab. Consequently, E was not detectable in SARS-CoV-infected cells that were expressing high levels of 8b. These findings suggest that 8b may modulate viral replication and/or pathogenesis.                                                                                                                                                                                                                                                                                                                                                                                                                                                                                                                                                                                                                                                                                                                                                                                                                                                                                                                                                                                                                                                                                                                                                           1\n",
       "Shrews, insectivorous small mammals, pertain to an ancient mammalian order. We screened 693 European and African shrews for hepatitis B virus (HBV) homologs to elucidate the enigmatic genealogy of HBV. Shrews host HBVs at low prevalence (2.5%) across a broad geographic and host range. The phylogenetically divergent shrew HBVs comprise separate species termed crowned shrew HBV (CSHBV) and musk shrew HBV (MSHBV), each containing distinct genotypes. Recombination events across host orders, evolutionary reconstructions, and antigenic divergence of shrew HBVs corroborated ancient origins of mammalian HBVs dating back about 80 million years. Resurrected CSHBV replicated in human hepatoma cells, but human- and tupaia-derived primary hepatocytes were resistant to hepatitis D viruses pseudotyped with CSHBV surface proteins. Functional characterization of the shrew sodium taurocholate cotransporting polypeptide (Ntcp), CSHBV/MSHBV surface peptide binding patterns, and infection experiments revealed lack of Ntcp-mediated entry of shrew HBV. Contrastingly, HBV entry was enabled by the shrew Ntcp. Shrew HBVs universally showed mutations in their genomic preCore domains impeding hepatitis B e antigen (HBeAg) production and resembling those observed in HBeAg-negative human HBV. Deep sequencing and in situ hybridization suggest that HBeAg-negative shrew HBVs cause intense hepatotropic monoinfections and low within-host genomic heterogeneity. Geographical clustering and low MSHBV/CSHBV-specific seroprevalence suggest focal transmission and high virulence of shrew HBVs. HBeAg negativity is thus an ancient HBV infection pattern, whereas Ntcp usage for entry is not evolutionarily conserved. Shrew infection models relying on CSHBV/MSHBV revertants and human HBV will allow comparative assessments of HBeAg-mediated HBV pathogenesis, entry, and species barriers.                                                                                                                                                                                                                 1\n",
       "Chronic infections represent a continuous battle between the host's immune system and pathogen replication. Many protozoan parasites have evolved a cyst lifecycle stage that provides it with increased protection from environmental degradation as well as endogenous host mechanisms of attack. In the case of Toxoplasma gondii, these cysts are predominantly found in the immune protected brain making clearance of the parasite more difficult and resulting in a lifelong infection. Currently, little is known about the nature of the immune response stimulated by the presence of these cysts or how they are able to propagate. Here we establish a novel chitinase-dependent mechanism of cyst control in the infected brain. Despite a dominant Th1 immune response during Toxoplasma infection there exists a population of alternatively activated macrophages (AAMØ) in the infected CNS. These cells are capable of cyst lysis via the production of AMCase as revealed by live imaging, and this chitinase is necessary for protective immunity within the CNS. These data demonstrate chitinase activity in the brain in response to a protozoan pathogen and provide a novel mechanism to facilitate cyst clearance during chronic infections.                                                                                                                                                                                                                                                                                                                                                                                                                                                                                                                                                                                                                                                                                                                                                                                                                                                                                         1\n",
       "Polyoxometalate (POM) has promising antiviral activities. It shows broad-spectrum inhibiting ability, high efficiency, and low toxicity. Experimental assays show that titanium containing polyoxotungstates have anti-influenza-virus activity. In this paper, the binding mechanisms of five isomers of di-Ti-substituted polyoxotungstate, [α-1,2-PTi(2)W(10)O(40)](7−) (α-1,2), [α-1,6-PTi(2)W(10)O(40)](7−) (α-1,6), [α-1,5-PTi(2)W(10)O(40)](7−) (α-1,5), [α-1,4-PTi(2)W(10)O(40)](7−) (α-1,4) and [α-1,11-PTi(2)W(10)O(40)](7−) (α-1,11), to five subtypes of influenza virus A neuraminidase (FluV-A NA) were investigated in the context of aqueous solution by using molecular docking and molecular dynamics studies. The results show that the isomer α-1,2 is superior to other isomers as a potential inhibitor to neuraminidase. The positively charged arginine residues around the active site of NA could be induced by negatively charged POM to adapt themselves and could form salt bridge interactions and hydrogen bond interactions with POM. The binding free energies of POM/NA complexes range from −5.36 to −8.31 kcal mol(−1). The electrostatic interactions are found to be the driving force during the binding process of POM to NA. The conformational analysis shows that POM tends to bind primarily with N1 and N8 at the edge of the active pocket, which causes the conformational change of the pincers structure comprising residue 347 and loop 150. Whereas, the active pockets of N2, N9 and N4 are found to be more spacious, which allows POM to enter into the active pockets directly and anchor there firmly. This study shows that negatively charged ligand as POM could induce the reorganization of the active site of NA and highlights POM as a promising inhibitor to NA despite the ever increasing mutants of NA. ELECTRONIC SUPPLEMENTARY MATERIAL: Supplementary material is available for this article at 10.1007/s11434-010-3271-8 and is accessible for authorized users.                                                                                                                       1\n",
       "Ebolavirus, a member of the Filoviridae family of negative-sense RNA viruses, causes severe haemorrhagic fever leading up to 90% lethality. Ebolavirus matrix protein VP40 is involved in the virus assembly and budding process. The RNA binding pocket of VP40 is considered as the drug target site for structure based drug design. High Throughput Virtual Screening and molecular docking studies were employed to find the suitable inhibitors against VP40. Ten compounds showing good glide score and glide energy as well as interaction with specific amino acid residues were short listed as drug leads. These small molecule inhibitors could be potent inhibitors for VP40 matrix protein by blocking virus assembly and budding process.                                                                                                                                                                                                                                                                                                                                                                                                                                                                                                                                                                                                                                                                                                                                                                                                                                                                                                                                                                                                                                                                                                                                                                                                                                                                                                                                                                                                       1\n",
       "Name: abstract, Length: 37486, dtype: int64"
      ]
     },
     "execution_count": 24,
     "metadata": {},
     "output_type": "execute_result"
    }
   ],
   "source": [
    "df_meta['abstract'].value_counts()"
   ]
  },
  {
   "cell_type": "code",
   "execution_count": 36,
   "metadata": {},
   "outputs": [
    {
     "data": {
      "text/html": [
       "<div>\n",
       "<style scoped>\n",
       "    .dataframe tbody tr th:only-of-type {\n",
       "        vertical-align: middle;\n",
       "    }\n",
       "\n",
       "    .dataframe tbody tr th {\n",
       "        vertical-align: top;\n",
       "    }\n",
       "\n",
       "    .dataframe thead th {\n",
       "        text-align: right;\n",
       "    }\n",
       "</style>\n",
       "<table border=\"1\" class=\"dataframe\">\n",
       "  <thead>\n",
       "    <tr style=\"text-align: right;\">\n",
       "      <th></th>\n",
       "      <th>Unnamed: 0</th>\n",
       "      <th>cord_uid</th>\n",
       "      <th>sha</th>\n",
       "      <th>source_x</th>\n",
       "      <th>title</th>\n",
       "      <th>doi</th>\n",
       "      <th>pmcid</th>\n",
       "      <th>pubmed_id</th>\n",
       "      <th>license</th>\n",
       "      <th>abstract</th>\n",
       "      <th>publish_time</th>\n",
       "      <th>authors</th>\n",
       "      <th>journal</th>\n",
       "      <th>Microsoft Academic Paper ID</th>\n",
       "      <th>WHO #Covidence</th>\n",
       "      <th>has_full_text</th>\n",
       "      <th>full_text_file</th>\n",
       "      <th>url</th>\n",
       "      <th>language</th>\n",
       "    </tr>\n",
       "  </thead>\n",
       "  <tbody>\n",
       "    <tr>\n",
       "      <th>19253</th>\n",
       "      <td>20956</td>\n",
       "      <td>73j6vpol</td>\n",
       "      <td>f9ac116d320401821f389a7e9456d2fd4ae12367</td>\n",
       "      <td>PMC</td>\n",
       "      <td>Global analysis of differential expressed gene...</td>\n",
       "      <td>10.4314/ahs.v13i2.6</td>\n",
       "      <td>PMC3824489</td>\n",
       "      <td>24235919.0</td>\n",
       "      <td>unk</td>\n",
       "      <td>Human cytomegalovirus (HCMV) is a virus which ...</td>\n",
       "      <td>2013-09-05</td>\n",
       "      <td>Xiaoyang, Mo; Haiquan, Z; Huanying, Z; Changwe...</td>\n",
       "      <td>African Health Sciences</td>\n",
       "      <td>NaN</td>\n",
       "      <td>NaN</td>\n",
       "      <td>True</td>\n",
       "      <td>custom_license</td>\n",
       "      <td>https://www.ajol.info/index.php/ahs/article/do...</td>\n",
       "      <td>en</td>\n",
       "    </tr>\n",
       "    <tr>\n",
       "      <th>21712</th>\n",
       "      <td>23766</td>\n",
       "      <td>8lurg2tx</td>\n",
       "      <td>b7749d85cc1e5b72b6c7b0906c86ec0cb5875def</td>\n",
       "      <td>PMC</td>\n",
       "      <td>Differential expressed genes in ECV304 Endothe...</td>\n",
       "      <td>10.4314/ahs.v13i4.2</td>\n",
       "      <td>PMC4056481</td>\n",
       "      <td>24940306.0</td>\n",
       "      <td>unk</td>\n",
       "      <td>Human cytomegalovirus (HCMV) is a virus which ...</td>\n",
       "      <td>2014-01-23</td>\n",
       "      <td>Zhang, Yali; Ma, Wenli; Mo, Xiaoyang; Zhao, Ha...</td>\n",
       "      <td>African Health Sciences</td>\n",
       "      <td>NaN</td>\n",
       "      <td>NaN</td>\n",
       "      <td>True</td>\n",
       "      <td>custom_license</td>\n",
       "      <td>https://www.ajol.info/index.php/ahs/article/do...</td>\n",
       "      <td>en</td>\n",
       "    </tr>\n",
       "  </tbody>\n",
       "</table>\n",
       "</div>"
      ],
      "text/plain": [
       "       Unnamed: 0  cord_uid                                       sha  \\\n",
       "19253       20956  73j6vpol  f9ac116d320401821f389a7e9456d2fd4ae12367   \n",
       "21712       23766  8lurg2tx  b7749d85cc1e5b72b6c7b0906c86ec0cb5875def   \n",
       "\n",
       "      source_x                                              title  \\\n",
       "19253      PMC  Global analysis of differential expressed gene...   \n",
       "21712      PMC  Differential expressed genes in ECV304 Endothe...   \n",
       "\n",
       "                       doi       pmcid   pubmed_id license  \\\n",
       "19253  10.4314/ahs.v13i2.6  PMC3824489  24235919.0     unk   \n",
       "21712  10.4314/ahs.v13i4.2  PMC4056481  24940306.0     unk   \n",
       "\n",
       "                                                abstract publish_time  \\\n",
       "19253  Human cytomegalovirus (HCMV) is a virus which ...   2013-09-05   \n",
       "21712  Human cytomegalovirus (HCMV) is a virus which ...   2014-01-23   \n",
       "\n",
       "                                                 authors  \\\n",
       "19253  Xiaoyang, Mo; Haiquan, Z; Huanying, Z; Changwe...   \n",
       "21712  Zhang, Yali; Ma, Wenli; Mo, Xiaoyang; Zhao, Ha...   \n",
       "\n",
       "                       journal  Microsoft Academic Paper ID WHO #Covidence  \\\n",
       "19253  African Health Sciences                          NaN            NaN   \n",
       "21712  African Health Sciences                          NaN            NaN   \n",
       "\n",
       "       has_full_text  full_text_file  \\\n",
       "19253           True  custom_license   \n",
       "21712           True  custom_license   \n",
       "\n",
       "                                                     url language  \n",
       "19253  https://www.ajol.info/index.php/ahs/article/do...       en  \n",
       "21712  https://www.ajol.info/index.php/ahs/article/do...       en  "
      ]
     },
     "execution_count": 36,
     "metadata": {},
     "output_type": "execute_result"
    }
   ],
   "source": [
    "df_meta[df_meta['abstract'] == \"Human cytomegalovirus (HCMV) is a virus which has the potential to alter cellular gene expression through multiple mechanisms. OBJECTIVE: With the application of DNA microarrays, we could monitor the effects of pathogens on host-cell gene expression programmes in great depth and on a broad scale. METHODS: Changes in mRNA expression levels of human endothelial-like ECV304 cells following infection with human cytomegalovirus AD169 strain was analyzed by a microarray system comprising 21073 60-mer oligonucleotide probes which represent 18716 human genes or transcripts. RESULTS: The results from cDNA microarray showed that there were 559 differential expressed genes consisted of 471 upregulated genes and 88 down-regulated genes. Real-time qPCR was performed to validate the expression of 6 selected genes (RPS24, MGC8721, SLC27A3, MST4, TRAF2 and LRRC28), and the results of which were consistent with those from the microarray. Among 237 biology processes, 39 biology processes were found to be related significantly to HCMV-infection. The signal transduction is the most significant biological process with the lowest p value (p=0.005) among all biological process which involved in response to HCMV infection. CONCLUSION: Several of these gene products might play key roles in virus-induced pathogenesis. These findings may help to elucidate the pathogenic mechanisms of HCMV caused diseases.\"]"
   ]
  },
  {
   "cell_type": "code",
   "execution_count": null,
   "metadata": {},
   "outputs": [],
   "source": [
    "Protocolo para la atención de personas con sos...\t\n",
    "Protocolo para la atención de personas con sos...\t"
   ]
  },
  {
   "cell_type": "code",
   "execution_count": 37,
   "metadata": {},
   "outputs": [
    {
     "data": {
      "text/plain": [
       "'Global analysis of differential expressed genes in ECV304 Endothelial-like cells infected with human cytomegalovirus'"
      ]
     },
     "execution_count": 37,
     "metadata": {},
     "output_type": "execute_result"
    }
   ],
   "source": [
    "df_meta.iloc[19253]['title']"
   ]
  },
  {
   "cell_type": "code",
   "execution_count": 38,
   "metadata": {},
   "outputs": [
    {
     "data": {
      "text/plain": [
       "'Differential expressed genes in ECV304 Endothelial-like Cells infected with Human Cytomegalovirus'"
      ]
     },
     "execution_count": 38,
     "metadata": {},
     "output_type": "execute_result"
    }
   ],
   "source": [
    "df_meta.iloc[21712]['title']"
   ]
  },
  {
   "cell_type": "code",
   "execution_count": null,
   "metadata": {},
   "outputs": [],
   "source": []
  }
 ],
 "metadata": {
  "kernelspec": {
   "display_name": "Python 3",
   "language": "python",
   "name": "python3"
  },
  "language_info": {
   "codemirror_mode": {
    "name": "ipython",
    "version": 3
   },
   "file_extension": ".py",
   "mimetype": "text/x-python",
   "name": "python",
   "nbconvert_exporter": "python",
   "pygments_lexer": "ipython3",
   "version": "3.6.7"
  }
 },
 "nbformat": 4,
 "nbformat_minor": 2
}
