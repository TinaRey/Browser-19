{
 "cells": [
  {
   "cell_type": "markdown",
   "metadata": {},
   "source": [
    "# Visualization\n",
    "\n",
    "### Requierement : \n",
    "Need to use the new dataset which has been upgraded with coherent date format. \n",
    "The new metadata file should be named \"*metadata_new.csv*\" (automatic if running new_dates.py)"
   ]
  },
  {
   "cell_type": "code",
   "execution_count": null,
   "metadata": {},
   "outputs": [],
   "source": []
  },
  {
   "cell_type": "code",
   "execution_count": null,
   "metadata": {},
   "outputs": [],
   "source": [
    "from os.path import join as ospj\n",
    "import os\n",
    "import sys\n",
    "import pandas as pd\n",
    "import numpy as np\n",
    "import sys\n",
    "print(sys.version)\n",
    "from IPython.display import display, HTML\n",
    "import matplotlib.pyplot as plt\n"
   ]
  },
  {
   "cell_type": "code",
   "execution_count": null,
   "metadata": {},
   "outputs": [],
   "source": [
    "pd.set_option('display.max_rows', None)\n",
    "\n",
    "data_path = '/home/marchaln/CodeVsCovid19/data/CORD-19-research-challenge/metadata.csv'\n",
    "data_path = '../data/CORD-19-research-challenge'\n",
    "download_path = '/home/marchaln/Downloads'\n",
    "\n",
    "metadata_path = ospj(data_path, 'metadata.csv')\n",
    "new_metadata_path = ospj(data_path, 'metadata_new.csv')\n"
   ]
  },
  {
   "cell_type": "code",
   "execution_count": null,
   "metadata": {},
   "outputs": [],
   "source": [
    "metadata_pd = pd.read_csv(new_metadata_path)  "
   ]
  },
  {
   "cell_type": "code",
   "execution_count": null,
   "metadata": {},
   "outputs": [],
   "source": [
    "df = metadata_pd\n",
    "year = pd.DataFrame()\n",
    "year['publish_time'] = df['publish_time']\n",
    "year['year'] = year['publish_time'].str[:4]\n",
    "\n",
    "unique_years = sorted(year['year'].unique())\n",
    "min_year = int(unique_years[1]) #ignore the 00\n",
    "max_year = int(max(unique_years))\n",
    "\n",
    "\n",
    "unique_numbers = []\n",
    "all_date = []\n",
    "\n",
    "for date in range(min_year, max_year+1):\n",
    "    nbr =  len(year[year['year'] == str(date)])\n",
    "    unique_numbers.append(nbr)\n",
    "    all_date.append(date)"
   ]
  },
  {
   "cell_type": "code",
   "execution_count": null,
   "metadata": {},
   "outputs": [],
   "source": [
    "fig = plt.figure()\n",
    "\n",
    "# draw the plot\n",
    "ax = fig.add_axes([0,0,1,1])\n",
    "ax.bar(all_date,unique_numbers)\n",
    "\n",
    "# Add title and axis names\n",
    "plt.title('Distribution of articles over time')\n",
    "plt.xlabel('Year')\n",
    "plt.ylabel('Number of Articles')\n",
    "\n",
    "#uncomment to save where you want\n",
    "#plt.savefig(ospj(download_path, 'dates.png'), bbox_inches='tight')\n",
    "\n",
    "plt.show()\n"
   ]
  },
  {
   "cell_type": "code",
   "execution_count": null,
   "metadata": {},
   "outputs": [],
   "source": []
  }
 ],
 "metadata": {
  "kernelspec": {
   "display_name": "Python 3",
   "language": "python",
   "name": "python3"
  },
  "language_info": {
   "codemirror_mode": {
    "name": "ipython",
    "version": 3
   },
   "file_extension": ".py",
   "mimetype": "text/x-python",
   "name": "python",
   "nbconvert_exporter": "python",
   "pygments_lexer": "ipython3",
   "version": "3.6.10"
  }
 },
 "nbformat": 4,
 "nbformat_minor": 4
}
